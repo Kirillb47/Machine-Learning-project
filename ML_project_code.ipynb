{
 "cells": [
  {
   "cell_type": "markdown",
   "metadata": {},
   "source": [
    "# Import Packages\n"
   ]
  },
  {
   "cell_type": "code",
   "execution_count": 1,
   "metadata": {},
   "outputs": [],
   "source": [
    "import pandas as pd\n",
    "import numpy as np\n",
    "from numpy import mean\n",
    "from numpy import std\n",
    "import matplotlib.pyplot as plt\n",
    "import seaborn as sns\n",
    "import warnings\n",
    "import random\n",
    "from sklearn.metrics import accuracy_score\n",
    "from sklearn.metrics import mean_squared_error,  auc, roc_auc_score\n",
    "from sklearn.model_selection import train_test_split, KFold\n",
    "from sklearn.datasets import fetch_openml\n",
    "from sklearn.linear_model import LogisticRegression,LinearRegression\n",
    "from sklearn.preprocessing import StandardScaler\n",
    "from sklearn.metrics import confusion_matrix\n",
    "from typing import List, Dict\n",
    "from random import choices\n",
    "from sklearn.feature_selection import VarianceThreshold\n",
    "from mlxtend.feature_selection import SequentialFeatureSelector as sfs\n",
    "from sklearn.decomposition import PCA\n",
    "from sklearn.metrics import confusion_matrix\n",
    "from sklearn import svm\n",
    "from sklearn.datasets import make_classification\n",
    "from sklearn.model_selection import cross_val_score\n",
    "from sklearn.model_selection import RepeatedStratifiedKFold\n",
    "from sklearn.neighbors import KNeighborsClassifier\n",
    "from sklearn.ensemble import RandomForestClassifier, RandomForestRegressor\n",
    "from sklearn.metrics import roc_curve\n",
    "from sklearn.metrics import auc\n",
    "from sklearn.model_selection import KFold\n",
    "from sklearn.metrics import RocCurveDisplay\n",
    "from sklearn.model_selection import StratifiedKFold\n",
    "from sklearn.model_selection import GridSearchCV\n",
    "\n",
    "%matplotlib inline\n",
    "\n"
   ]
  },
  {
   "cell_type": "markdown",
   "metadata": {},
   "source": [
    "# Part #1: Exploring the data"
   ]
  },
  {
   "cell_type": "code",
   "execution_count": 2,
   "metadata": {
    "scrolled": true
   },
   "outputs": [
    {
     "data": {
      "text/html": [
       "<div>\n",
       "<style scoped>\n",
       "    .dataframe tbody tr th:only-of-type {\n",
       "        vertical-align: middle;\n",
       "    }\n",
       "\n",
       "    .dataframe tbody tr th {\n",
       "        vertical-align: top;\n",
       "    }\n",
       "\n",
       "    .dataframe thead th {\n",
       "        text-align: right;\n",
       "    }\n",
       "</style>\n",
       "<table border=\"1\" class=\"dataframe\">\n",
       "  <thead>\n",
       "    <tr style=\"text-align: right;\">\n",
       "      <th></th>\n",
       "      <th>id</th>\n",
       "      <th>num_of_admin_pages</th>\n",
       "      <th>admin_page_duration</th>\n",
       "      <th>num_of_info_pages</th>\n",
       "      <th>info_page_duration</th>\n",
       "      <th>num_of_product_pages</th>\n",
       "      <th>product_page_duration</th>\n",
       "      <th>total_duration</th>\n",
       "      <th>BounceRates</th>\n",
       "      <th>ExitRates</th>\n",
       "      <th>...</th>\n",
       "      <th>device</th>\n",
       "      <th>internet_browser</th>\n",
       "      <th>Region</th>\n",
       "      <th>user_type</th>\n",
       "      <th>Weekend</th>\n",
       "      <th>A</th>\n",
       "      <th>B</th>\n",
       "      <th>C</th>\n",
       "      <th>D</th>\n",
       "      <th>purchase</th>\n",
       "    </tr>\n",
       "  </thead>\n",
       "  <tbody>\n",
       "    <tr>\n",
       "      <th>0</th>\n",
       "      <td>0</td>\n",
       "      <td>0.0</td>\n",
       "      <td>0.0</td>\n",
       "      <td>0.0</td>\n",
       "      <td>0.0 minutes</td>\n",
       "      <td>1.0</td>\n",
       "      <td>0.0 minutes</td>\n",
       "      <td>NaN</td>\n",
       "      <td>0.200000</td>\n",
       "      <td>0.200000</td>\n",
       "      <td>...</td>\n",
       "      <td>1.0</td>\n",
       "      <td>safari_15</td>\n",
       "      <td>1.0</td>\n",
       "      <td>Returning_Visitor</td>\n",
       "      <td>False</td>\n",
       "      <td>c_1</td>\n",
       "      <td>118.880094</td>\n",
       "      <td>log202</td>\n",
       "      <td>NaN</td>\n",
       "      <td>0</td>\n",
       "    </tr>\n",
       "    <tr>\n",
       "      <th>1</th>\n",
       "      <td>1</td>\n",
       "      <td>0.0</td>\n",
       "      <td>0.0</td>\n",
       "      <td>0.0</td>\n",
       "      <td>0.0 minutes</td>\n",
       "      <td>1.0</td>\n",
       "      <td>0.0 minutes</td>\n",
       "      <td>0.000000</td>\n",
       "      <td>0.200000</td>\n",
       "      <td>0.200000</td>\n",
       "      <td>...</td>\n",
       "      <td>4.0</td>\n",
       "      <td>safari_14</td>\n",
       "      <td>9.0</td>\n",
       "      <td>Returning_Visitor</td>\n",
       "      <td>False</td>\n",
       "      <td>c_3</td>\n",
       "      <td>113.358423</td>\n",
       "      <td>log404</td>\n",
       "      <td>NaN</td>\n",
       "      <td>0</td>\n",
       "    </tr>\n",
       "    <tr>\n",
       "      <th>2</th>\n",
       "      <td>2</td>\n",
       "      <td>0.0</td>\n",
       "      <td>0.0</td>\n",
       "      <td>0.0</td>\n",
       "      <td>NaN</td>\n",
       "      <td>NaN</td>\n",
       "      <td>627.5 minutes</td>\n",
       "      <td>627.500000</td>\n",
       "      <td>0.020000</td>\n",
       "      <td>0.050000</td>\n",
       "      <td>...</td>\n",
       "      <td>3.0</td>\n",
       "      <td>browser_3_v17</td>\n",
       "      <td>1.0</td>\n",
       "      <td>Returning_Visitor</td>\n",
       "      <td>True</td>\n",
       "      <td>c_4</td>\n",
       "      <td>121.507695</td>\n",
       "      <td>log202</td>\n",
       "      <td>NaN</td>\n",
       "      <td>0</td>\n",
       "    </tr>\n",
       "    <tr>\n",
       "      <th>3</th>\n",
       "      <td>3</td>\n",
       "      <td>0.0</td>\n",
       "      <td>0.0</td>\n",
       "      <td>0.0</td>\n",
       "      <td>0.0 minutes</td>\n",
       "      <td>19.0</td>\n",
       "      <td>154.2166667 minutes</td>\n",
       "      <td>154.216667</td>\n",
       "      <td>0.015789</td>\n",
       "      <td>0.024561</td>\n",
       "      <td>...</td>\n",
       "      <td>2.0</td>\n",
       "      <td>chrome_99.1.3</td>\n",
       "      <td>1.0</td>\n",
       "      <td>Returning_Visitor</td>\n",
       "      <td>False</td>\n",
       "      <td>c_3</td>\n",
       "      <td>93.747176</td>\n",
       "      <td>log_100</td>\n",
       "      <td>NaN</td>\n",
       "      <td>0</td>\n",
       "    </tr>\n",
       "    <tr>\n",
       "      <th>4</th>\n",
       "      <td>4</td>\n",
       "      <td>0.0</td>\n",
       "      <td>0.0</td>\n",
       "      <td>0.0</td>\n",
       "      <td>0.0 minutes</td>\n",
       "      <td>1.0</td>\n",
       "      <td>0.0 minutes</td>\n",
       "      <td>NaN</td>\n",
       "      <td>0.200000</td>\n",
       "      <td>0.200000</td>\n",
       "      <td>...</td>\n",
       "      <td>2.0</td>\n",
       "      <td>edge_96.0.1054.75</td>\n",
       "      <td>3.0</td>\n",
       "      <td>Returning_Visitor</td>\n",
       "      <td>False</td>\n",
       "      <td>c_3</td>\n",
       "      <td>99.545824</td>\n",
       "      <td>log202</td>\n",
       "      <td>NaN</td>\n",
       "      <td>0</td>\n",
       "    </tr>\n",
       "    <tr>\n",
       "      <th>...</th>\n",
       "      <td>...</td>\n",
       "      <td>...</td>\n",
       "      <td>...</td>\n",
       "      <td>...</td>\n",
       "      <td>...</td>\n",
       "      <td>...</td>\n",
       "      <td>...</td>\n",
       "      <td>...</td>\n",
       "      <td>...</td>\n",
       "      <td>...</td>\n",
       "      <td>...</td>\n",
       "      <td>...</td>\n",
       "      <td>...</td>\n",
       "      <td>...</td>\n",
       "      <td>...</td>\n",
       "      <td>...</td>\n",
       "      <td>...</td>\n",
       "      <td>...</td>\n",
       "      <td>...</td>\n",
       "      <td>...</td>\n",
       "      <td>...</td>\n",
       "    </tr>\n",
       "    <tr>\n",
       "      <th>10474</th>\n",
       "      <td>10474</td>\n",
       "      <td>3.0</td>\n",
       "      <td>145.0</td>\n",
       "      <td>0.0</td>\n",
       "      <td>0.0 minutes</td>\n",
       "      <td>53.0</td>\n",
       "      <td>1783.791667 minutes</td>\n",
       "      <td>1928.791667</td>\n",
       "      <td>0.007143</td>\n",
       "      <td>0.029031</td>\n",
       "      <td>...</td>\n",
       "      <td>4.0</td>\n",
       "      <td>browser_6_v12</td>\n",
       "      <td>1.0</td>\n",
       "      <td>Returning_Visitor</td>\n",
       "      <td>True</td>\n",
       "      <td>c_1</td>\n",
       "      <td>79.548460</td>\n",
       "      <td>log400</td>\n",
       "      <td>NaN</td>\n",
       "      <td>0</td>\n",
       "    </tr>\n",
       "    <tr>\n",
       "      <th>10475</th>\n",
       "      <td>10475</td>\n",
       "      <td>0.0</td>\n",
       "      <td>0.0</td>\n",
       "      <td>0.0</td>\n",
       "      <td>0.0 minutes</td>\n",
       "      <td>5.0</td>\n",
       "      <td>465.75 minutes</td>\n",
       "      <td>NaN</td>\n",
       "      <td>0.000000</td>\n",
       "      <td>0.021333</td>\n",
       "      <td>...</td>\n",
       "      <td>3.0</td>\n",
       "      <td>chrome_98.0.1</td>\n",
       "      <td>1.0</td>\n",
       "      <td>Returning_Visitor</td>\n",
       "      <td>True</td>\n",
       "      <td>c_8</td>\n",
       "      <td>99.457255</td>\n",
       "      <td>log202</td>\n",
       "      <td>NaN</td>\n",
       "      <td>0</td>\n",
       "    </tr>\n",
       "    <tr>\n",
       "      <th>10476</th>\n",
       "      <td>10476</td>\n",
       "      <td>0.0</td>\n",
       "      <td>0.0</td>\n",
       "      <td>0.0</td>\n",
       "      <td>0.0 minutes</td>\n",
       "      <td>6.0</td>\n",
       "      <td>184.25 minutes</td>\n",
       "      <td>NaN</td>\n",
       "      <td>0.083333</td>\n",
       "      <td>0.086667</td>\n",
       "      <td>...</td>\n",
       "      <td>3.0</td>\n",
       "      <td>chrome_99.1.3</td>\n",
       "      <td>1.0</td>\n",
       "      <td>Returning_Visitor</td>\n",
       "      <td>True</td>\n",
       "      <td>c_13</td>\n",
       "      <td>94.417344</td>\n",
       "      <td>log8080</td>\n",
       "      <td>NaN</td>\n",
       "      <td>0</td>\n",
       "    </tr>\n",
       "    <tr>\n",
       "      <th>10477</th>\n",
       "      <td>10477</td>\n",
       "      <td>4.0</td>\n",
       "      <td>75.0</td>\n",
       "      <td>0.0</td>\n",
       "      <td>0.0 minutes</td>\n",
       "      <td>15.0</td>\n",
       "      <td>346.0 minutes</td>\n",
       "      <td>NaN</td>\n",
       "      <td>0.000000</td>\n",
       "      <td>0.021053</td>\n",
       "      <td>...</td>\n",
       "      <td>2.0</td>\n",
       "      <td>chrome_80</td>\n",
       "      <td>3.0</td>\n",
       "      <td>Returning_Visitor</td>\n",
       "      <td>False</td>\n",
       "      <td>c_11</td>\n",
       "      <td>108.919057</td>\n",
       "      <td>log400</td>\n",
       "      <td>NaN</td>\n",
       "      <td>0</td>\n",
       "    </tr>\n",
       "    <tr>\n",
       "      <th>10478</th>\n",
       "      <td>10478</td>\n",
       "      <td>0.0</td>\n",
       "      <td>0.0</td>\n",
       "      <td>0.0</td>\n",
       "      <td>0.0 minutes</td>\n",
       "      <td>3.0</td>\n",
       "      <td>21.25 minutes</td>\n",
       "      <td>21.250000</td>\n",
       "      <td>0.000000</td>\n",
       "      <td>0.066667</td>\n",
       "      <td>...</td>\n",
       "      <td>3.0</td>\n",
       "      <td>chrome_89</td>\n",
       "      <td>1.0</td>\n",
       "      <td>New_Visitor</td>\n",
       "      <td>True</td>\n",
       "      <td>c_2</td>\n",
       "      <td>90.072077</td>\n",
       "      <td>log8080</td>\n",
       "      <td>NaN</td>\n",
       "      <td>0</td>\n",
       "    </tr>\n",
       "  </tbody>\n",
       "</table>\n",
       "<p>10479 rows × 23 columns</p>\n",
       "</div>"
      ],
      "text/plain": [
       "          id  num_of_admin_pages  admin_page_duration  num_of_info_pages  \\\n",
       "0          0                 0.0                  0.0                0.0   \n",
       "1          1                 0.0                  0.0                0.0   \n",
       "2          2                 0.0                  0.0                0.0   \n",
       "3          3                 0.0                  0.0                0.0   \n",
       "4          4                 0.0                  0.0                0.0   \n",
       "...      ...                 ...                  ...                ...   \n",
       "10474  10474                 3.0                145.0                0.0   \n",
       "10475  10475                 0.0                  0.0                0.0   \n",
       "10476  10476                 0.0                  0.0                0.0   \n",
       "10477  10477                 4.0                 75.0                0.0   \n",
       "10478  10478                 0.0                  0.0                0.0   \n",
       "\n",
       "      info_page_duration  num_of_product_pages product_page_duration  \\\n",
       "0            0.0 minutes                   1.0           0.0 minutes   \n",
       "1            0.0 minutes                   1.0           0.0 minutes   \n",
       "2                    NaN                   NaN         627.5 minutes   \n",
       "3            0.0 minutes                  19.0   154.2166667 minutes   \n",
       "4            0.0 minutes                   1.0           0.0 minutes   \n",
       "...                  ...                   ...                   ...   \n",
       "10474        0.0 minutes                  53.0   1783.791667 minutes   \n",
       "10475        0.0 minutes                   5.0        465.75 minutes   \n",
       "10476        0.0 minutes                   6.0        184.25 minutes   \n",
       "10477        0.0 minutes                  15.0         346.0 minutes   \n",
       "10478        0.0 minutes                   3.0         21.25 minutes   \n",
       "\n",
       "       total_duration  BounceRates  ExitRates  ...  device   internet_browser  \\\n",
       "0                 NaN     0.200000   0.200000  ...     1.0          safari_15   \n",
       "1            0.000000     0.200000   0.200000  ...     4.0          safari_14   \n",
       "2          627.500000     0.020000   0.050000  ...     3.0      browser_3_v17   \n",
       "3          154.216667     0.015789   0.024561  ...     2.0      chrome_99.1.3   \n",
       "4                 NaN     0.200000   0.200000  ...     2.0  edge_96.0.1054.75   \n",
       "...               ...          ...        ...  ...     ...                ...   \n",
       "10474     1928.791667     0.007143   0.029031  ...     4.0      browser_6_v12   \n",
       "10475             NaN     0.000000   0.021333  ...     3.0      chrome_98.0.1   \n",
       "10476             NaN     0.083333   0.086667  ...     3.0      chrome_99.1.3   \n",
       "10477             NaN     0.000000   0.021053  ...     2.0          chrome_80   \n",
       "10478       21.250000     0.000000   0.066667  ...     3.0          chrome_89   \n",
       "\n",
       "      Region          user_type Weekend     A           B        C   D  \\\n",
       "0        1.0  Returning_Visitor   False   c_1  118.880094   log202 NaN   \n",
       "1        9.0  Returning_Visitor   False   c_3  113.358423   log404 NaN   \n",
       "2        1.0  Returning_Visitor    True   c_4  121.507695   log202 NaN   \n",
       "3        1.0  Returning_Visitor   False   c_3   93.747176  log_100 NaN   \n",
       "4        3.0  Returning_Visitor   False   c_3   99.545824   log202 NaN   \n",
       "...      ...                ...     ...   ...         ...      ...  ..   \n",
       "10474    1.0  Returning_Visitor    True   c_1   79.548460   log400 NaN   \n",
       "10475    1.0  Returning_Visitor    True   c_8   99.457255   log202 NaN   \n",
       "10476    1.0  Returning_Visitor    True  c_13   94.417344  log8080 NaN   \n",
       "10477    3.0  Returning_Visitor   False  c_11  108.919057   log400 NaN   \n",
       "10478    1.0        New_Visitor    True   c_2   90.072077  log8080 NaN   \n",
       "\n",
       "       purchase  \n",
       "0             0  \n",
       "1             0  \n",
       "2             0  \n",
       "3             0  \n",
       "4             0  \n",
       "...         ...  \n",
       "10474         0  \n",
       "10475         0  \n",
       "10476         0  \n",
       "10477         0  \n",
       "10478         0  \n",
       "\n",
       "[10479 rows x 23 columns]"
      ]
     },
     "execution_count": 2,
     "metadata": {},
     "output_type": "execute_result"
    }
   ],
   "source": [
    "warnings.filterwarnings('ignore')\n",
    "data = pd.read_csv(\"train.csv\")\n",
    "\n",
    "data"
   ]
  },
  {
   "cell_type": "markdown",
   "metadata": {},
   "source": [
    "We can see from the snapshot on the data that we have some features that may be irrelevant, and mostly NaN values in D.\n",
    "Also, we will check how many NaN values we have in each feature, it will help us later on to decide how to fill them, or maybe even discard some of them. <br> In addition, some features that have a numeric values but are string, we will convert now.\n",
    "\n",
    "Let's check it out!"
   ]
  },
  {
   "cell_type": "code",
   "execution_count": 3,
   "metadata": {},
   "outputs": [],
   "source": [
    "def first_process(data):\n",
    "    #remove 'minutes'\n",
    "    data['info_page_duration'] = data['info_page_duration'].str.replace('minutes', \"\")\n",
    "    data['product_page_duration'] = data['info_page_duration'].str.replace('minutes', \"\")\n",
    "\n",
    "    #convert the values to numeral\n",
    "    data['info_page_duration'] = data['info_page_duration'].astype(float)\n",
    "    data['product_page_duration'] = data['product_page_duration'].astype(float)\n",
    "    data['Weekend'] = data['Weekend'].replace({False: 0,True:1})\n",
    "\n",
    "    return data\n",
    "\n",
    "data = first_process(data)"
   ]
  },
  {
   "cell_type": "code",
   "execution_count": 4,
   "metadata": {},
   "outputs": [
    {
     "name": "stdout",
     "output_type": "stream",
     "text": [
      "D NA percentage: 0.9899799599198397\n"
     ]
    }
   ],
   "source": [
    "D_Nans = data['D'].isna().sum() / len(data)\n",
    "print(f'D NA percentage: {D_Nans}')"
   ]
  },
  {
   "cell_type": "markdown",
   "metadata": {},
   "source": [
    "The D feature is mostly NaN we will remove it later on."
   ]
  },
  {
   "cell_type": "markdown",
   "metadata": {},
   "source": [
    "\n",
    "We would like to see also the precentage of purchases from the total amount of recorded users so that we can understand whether the numbers we get in the features inspection are negligible.\n",
    "We whould like to plot the numeric features to have a better understanding on them."
   ]
  },
  {
   "cell_type": "code",
   "execution_count": 5,
   "metadata": {},
   "outputs": [
    {
     "name": "stdout",
     "output_type": "stream",
     "text": [
      "Total Purchase precentage: 0.15469033304704646\n",
      "Categorial features: ['C', 'user_type', 'Month', 'internet_browser', 'A']\n"
     ]
    }
   ],
   "source": [
    "purch_lst = list(data['purchase'].value_counts())\n",
    "total_purch = purch_lst[1]/len(data)\n",
    "\n",
    "all_features = data.columns\n",
    "numeric_features = data.select_dtypes(include=[np.number]).columns\n",
    "cat_cols = list(set(all_features) - set(numeric_features))\n",
    "\n",
    "print(f'Total Purchase precentage: {total_purch}\\nCategorial features: {cat_cols}')"
   ]
  },
  {
   "cell_type": "markdown",
   "metadata": {},
   "source": [
    "We can see the total purchases are 15%, and that we have several features that we need to convert to numeric.\n",
    "Also, we see that we have some categorial features. We want to have a quick look to examine reather each one of the categories in those feature has an indevidual impact, or maybe they can be grouped together."
   ]
  },
  {
   "cell_type": "code",
   "execution_count": 6,
   "metadata": {
    "scrolled": false
   },
   "outputs": [
    {
     "data": {
      "text/plain": [
       "array([[<AxesSubplot:title={'center':'id'}>,\n",
       "        <AxesSubplot:title={'center':'num_of_admin_pages'}>,\n",
       "        <AxesSubplot:title={'center':'admin_page_duration'}>,\n",
       "        <AxesSubplot:title={'center':'num_of_info_pages'}>],\n",
       "       [<AxesSubplot:title={'center':'info_page_duration'}>,\n",
       "        <AxesSubplot:title={'center':'num_of_product_pages'}>,\n",
       "        <AxesSubplot:title={'center':'product_page_duration'}>,\n",
       "        <AxesSubplot:title={'center':'total_duration'}>],\n",
       "       [<AxesSubplot:title={'center':'BounceRates'}>,\n",
       "        <AxesSubplot:title={'center':'ExitRates'}>,\n",
       "        <AxesSubplot:title={'center':'PageValues'}>,\n",
       "        <AxesSubplot:title={'center':'closeness_to_holiday'}>],\n",
       "       [<AxesSubplot:title={'center':'device'}>,\n",
       "        <AxesSubplot:title={'center':'Region'}>,\n",
       "        <AxesSubplot:title={'center':'Weekend'}>,\n",
       "        <AxesSubplot:title={'center':'B'}>],\n",
       "       [<AxesSubplot:title={'center':'D'}>,\n",
       "        <AxesSubplot:title={'center':'purchase'}>, <AxesSubplot:>,\n",
       "        <AxesSubplot:>]], dtype=object)"
      ]
     },
     "execution_count": 6,
     "metadata": {},
     "output_type": "execute_result"
    },
    {
     "data": {
      "image/png": "[encoded data removed]",
      "text/plain": [
       "<Figure size 1080x1080 with 20 Axes>"
      ]
     },
     "metadata": {
      "needs_background": "light"
     },
     "output_type": "display_data"
    }
   ],
   "source": [
    "data.iloc[:,:].hist(figsize=(15,15))"
   ]
  },
  {
   "cell_type": "code",
   "execution_count": 7,
   "metadata": {},
   "outputs": [
    {
     "data": {
      "image/png": "[encoded data removed]",
      "text/plain": [
       "<Figure size 720x360 with 1 Axes>"
      ]
     },
     "metadata": {
      "needs_background": "light"
     },
     "output_type": "display_data"
    },
    {
     "data": {
      "text/plain": [
       "2.0    5429\n",
       "1.0    2130\n",
       "3.0    2120\n",
       "4.0     388\n",
       "8.0      64\n",
       "6.0      18\n",
       "5.0       4\n",
       "7.0       3\n",
       "Name: device, dtype: int64"
      ]
     },
     "execution_count": 7,
     "metadata": {},
     "output_type": "execute_result"
    }
   ],
   "source": [
    "plt.figure(figsize=(10,5))\n",
    "use_type = sns.countplot(x='device',hue='purchase' , data=data)\n",
    "plt.xticks(rotation=45)\n",
    "plt.show()\n",
    "data['device'].value_counts()"
   ]
  },
  {
   "cell_type": "markdown",
   "metadata": {},
   "source": [
    "As we can see the values above 4 are significatlly lower then the rest. Later on we will set all of those values as '4'"
   ]
  },
  {
   "cell_type": "code",
   "execution_count": 8,
   "metadata": {},
   "outputs": [
    {
     "data": {
      "image/png": "[encoded data removed]",
      "text/plain": [
       "<Figure size 720x360 with 1 Axes>"
      ]
     },
     "metadata": {
      "needs_background": "light"
     },
     "output_type": "display_data"
    },
    {
     "data": {
      "text/plain": [
       "log200     1813\n",
       "log400     1760\n",
       "log404     1754\n",
       "log8080    1748\n",
       "log_100    1731\n",
       "log202     1650\n",
       "Name: C, dtype: int64"
      ]
     },
     "execution_count": 8,
     "metadata": {},
     "output_type": "execute_result"
    }
   ],
   "source": [
    "plt.figure(figsize=(10,5))\n",
    "use_type = sns.countplot(x='C',hue='purchase' , data=data)\n",
    "plt.xticks(rotation=45)\n",
    "plt.show()\n",
    "data['C'].value_counts()"
   ]
  },
  {
   "cell_type": "markdown",
   "metadata": {},
   "source": [
    "We see that column 'c' distribute uniformly, and it seems that this feature will not add much for our models. We will drop this column later. <br> "
   ]
  },
  {
   "cell_type": "markdown",
   "metadata": {},
   "source": [
    "As we saw before, in order to make insights on feature 'A' we need to remove 'c_' & '_'."
   ]
  },
  {
   "cell_type": "code",
   "execution_count": 9,
   "metadata": {},
   "outputs": [
    {
     "data": {
      "image/png": "[encoded data removed]",
      "text/plain": [
       "<Figure size 720x360 with 1 Axes>"
      ]
     },
     "metadata": {
      "needs_background": "light"
     },
     "output_type": "display_data"
    },
    {
     "data": {
      "text/plain": [
       "2.0     3101\n",
       "1.0     1944\n",
       "3.0     1644\n",
       "4.0      850\n",
       "13.0     586\n",
       "10.0     347\n",
       "6.0      335\n",
       "8.0      268\n",
       "5.0      205\n",
       "11.0     199\n",
       "20.0     162\n",
       "7.0       34\n",
       "9.0       32\n",
       "15.0      31\n",
       "19.0      14\n",
       "14.0      10\n",
       "18.0       7\n",
       "16.0       3\n",
       "17.0       1\n",
       "Name: A, dtype: int64"
      ]
     },
     "execution_count": 9,
     "metadata": {},
     "output_type": "execute_result"
    }
   ],
   "source": [
    "def A_process(data):\n",
    "    data['A'] = data['A'].str.replace('c_', \"\")\n",
    "    A_col = data['A']\n",
    "    for i in range(len(A_col)):\n",
    "        if str(A_col[i]).startswith('20'):\n",
    "            data['A'][i] = '20'\n",
    "    data['A'] = data['A'].astype(float)\n",
    "    return data\n",
    "\n",
    "data = A_process(data)\n",
    "\n",
    "plt.figure(figsize=(10,5))\n",
    "use_type = sns.countplot(x='A',hue='purchase' , data=data)\n",
    "plt.xticks(rotation=45)\n",
    "plt.show()\n",
    "data['A'].value_counts()"
   ]
  },
  {
   "cell_type": "markdown",
   "metadata": {},
   "source": [
    "It's hard to determain at this point what is the right way to deal with this feature according to the plot. We want to check how likely it is to end a session as 'purchase' for each category, according to our data."
   ]
  },
  {
   "cell_type": "code",
   "execution_count": 10,
   "metadata": {},
   "outputs": [
    {
     "name": "stdout",
     "output_type": "stream",
     "text": [
      "Total Purchase precentage in 1.0 is: 10.80802882141019\n",
      "Total Purchase precentage in 2.0 is: 21.70967741935484\n",
      "Total Purchase precentage in 3.0 is: 9.063260340632603\n",
      "Total Purchase precentage in 4.0 is: 14.470588235294118\n",
      "Total Purchase precentage in 5.0 is: 22.926829268292686\n",
      "Total Purchase precentage in 6.0 is: 11.343283582089553\n",
      "Total Purchase precentage in 7.0 is: 32.35294117647059\n",
      "Total Purchase precentage in 8.0 is: 27.611940298507463\n",
      "Total Purchase precentage in 9.0 is: 12.5\n",
      "Total Purchase precentage in 10.0 is: 20.172910662824208\n",
      "Total Purchase precentage in 11.0 is: 18.090452261306535\n",
      "Total Purchase precentage in 13.0 is: 6.143344709897611\n",
      "Total Purchase precentage in 14.0 is: 20.0\n",
      "Total Purchase precentage in 15.0 is: 0.0\n",
      "Total Purchase precentage in 16.0 is: 33.33333333333333\n",
      "Total Purchase precentage in 17.0 is: 0.0\n",
      "Total Purchase precentage in 18.0 is: 0.0\n",
      "Total Purchase precentage in 19.0 is: 7.142857142857142\n",
      "Total Purchase precentage in 20.0 is: 25.308641975308642\n",
      "The average purchased percentage per A category is: 15.419899433030501\n"
     ]
    }
   ],
   "source": [
    "A_dict = {1.0:0, 2.0:0, 3.0:0, 4.0:0, 5.0:0, 6.0:0, 7.0:0, 8.0:0, 9.0:0, 10.0:0, 11.0:0, 13.0:0, 14.0:0, 15.0:0, 16.0:0, 17.0:0, 18.0:0, 19.0:0, 20.0:0}\n",
    "A_count = {1.0:0, 2.0:0, 3.0:0, 4.0:0, 5.0:0, 6.0:0, 7.0:0, 8.0:0, 9.0:0, 10.0:0, 11.0:0, 13.0:0, 14.0:0, 15.0:0, 16.0:0, 17.0:0, 18.0:0, 19.0:0, 20.0:0}\n",
    "\n",
    "for a in range(1,len(data['A'])-1):\n",
    "    curr_a = data['A'][a]\n",
    "    if  pd.isna(curr_a):\n",
    "        continue\n",
    "    else:\n",
    "        A_count[curr_a] += 1\n",
    "        if data['purchase'][a] == 1:\n",
    "            A_dict[curr_a] += 1\n",
    "per_lst =[]\n",
    "for i in A_dict.keys():\n",
    "    pur_per = 100*(A_dict[i] / A_count[i])\n",
    "    A_dict[i] = pur_per\n",
    "    per_lst.append(pur_per)\n",
    "    print(f'Total Purchase precentage in {i} is: {pur_per}')\n",
    "print(f'The average purchased percentage per A category is: {sum(per_lst)/len(per_lst)}')"
   ]
  },
  {
   "cell_type": "markdown",
   "metadata": {},
   "source": [
    "We have two insights:<br>1. From the intial plot, we saw some features that appear a very small amount of times (14, 16, 17, 18, 19). We will delete these rows later.<br> 2. We will devide this feature into 3 categories:<br> 0-10% as 'weak'<br> 10-20% as 'average'<br> 20% and above as 'strong'."
   ]
  },
  {
   "cell_type": "markdown",
   "metadata": {},
   "source": [
    "Groups precentage in the data: <br>Group 'weak'- A = 3, 13, 15 (2261 - 22%)<br> Group 'average'- A = 1, 4, 6, 9, 11 (3360 - 33%)<br> Group 'strong'- A = 2, 5, 7, 8, 10, 20 (4117 - 39%) <br> Nan values = 6%"
   ]
  },
  {
   "cell_type": "code",
   "execution_count": 11,
   "metadata": {
    "scrolled": true
   },
   "outputs": [
    {
     "data": {
      "image/png": "[encoded data removed]",
      "text/plain": [
       "<Figure size 720x360 with 1 Axes>"
      ]
     },
     "metadata": {
      "needs_background": "light"
     },
     "output_type": "display_data"
    },
    {
     "data": {
      "text/plain": [
       "chrome     6419\n",
       "safari     1952\n",
       "browser     957\n",
       "edge        588\n",
       "Name: internet_browser, dtype: int64"
      ]
     },
     "execution_count": 11,
     "metadata": {},
     "output_type": "execute_result"
    }
   ],
   "source": [
    "def browser_process(data):\n",
    "    brow_col = data['internet_browser']\n",
    "    for i in range(len(brow_col)):\n",
    "        if str(brow_col[i]).startswith('browser'):\n",
    "            data['internet_browser'][i] = 'browser'\n",
    "        elif str(brow_col[i]).startswith('chrome'):\n",
    "            data['internet_browser'][i] = 'chrome'\n",
    "        elif str(brow_col[i]).startswith('safari'):\n",
    "            data['internet_browser'][i] = 'safari'\n",
    "        elif str(brow_col[i]).startswith('edge'):\n",
    "            data['internet_browser'][i] = 'edge'\n",
    "    return data\n",
    "\n",
    "data = browser_process(data)\n",
    "plt.figure(figsize=(10,5))\n",
    "browser = sns.countplot(x='internet_browser',hue='purchase' , data=data)\n",
    "plt.xticks(rotation=45)\n",
    "plt.show()\n",
    "data['internet_browser'].value_counts()\n"
   ]
  },
  {
   "cell_type": "markdown",
   "metadata": {},
   "source": [
    "According the plot, it is not clear rather internet browser has any significant meaning.<br> We will investigate it more thoroughly by examining each browser purchase percentage:"
   ]
  },
  {
   "cell_type": "code",
   "execution_count": 12,
   "metadata": {},
   "outputs": [
    {
     "name": "stdout",
     "output_type": "stream",
     "text": [
      "Total Purchase precentage in chrome is: 15.331879090059209\n",
      "Total Purchase precentage in safari is: 15.376729882111736\n",
      "Total Purchase precentage in browser is: 16.091954022988507\n",
      "Total Purchase precentage in edge is: 18.197278911564627\n",
      "The average purchased percentage per browser is: 16.24946047668102\n"
     ]
    }
   ],
   "source": [
    "br_dict = {'chrome':0, 'safari':0, 'browser':0, 'edge':0}\n",
    "br_count = {'chrome':0, 'safari':0, 'browser':0, 'edge':0}\n",
    "\n",
    "for b in range(1,len(data['internet_browser'])-1):\n",
    "    curr_br = data['internet_browser'][b]\n",
    "    if isinstance(curr_br,str):      \n",
    "        br_count[curr_br] += 1\n",
    "        if data['purchase'][b] == 1:\n",
    "            br_dict[curr_br] += 1\n",
    "per_lst =[]\n",
    "for i in br_dict.keys():\n",
    "    pur_per = 100*(br_dict[i] / br_count[i])\n",
    "    br_dict[i] = pur_per\n",
    "    per_lst.append(pur_per)\n",
    "    print(f'Total Purchase precentage in {i} is: {pur_per}')\n",
    "print(f'The average purchased percentage per browser is: {sum(per_lst)/len(per_lst)}')"
   ]
  },
  {
   "cell_type": "markdown",
   "metadata": {},
   "source": [
    "It looks like the four different browser has no significant impact!<br> We will drop this feature later."
   ]
  },
  {
   "cell_type": "code",
   "execution_count": 13,
   "metadata": {
    "scrolled": false
   },
   "outputs": [
    {
     "data": {
      "image/png": "[encoded data removed]",
      "text/plain": [
       "<Figure size 720x360 with 1 Axes>"
      ]
     },
     "metadata": {
      "needs_background": "light"
     },
     "output_type": "display_data"
    },
    {
     "data": {
      "text/plain": [
       "Returning_Visitor    8956\n",
       "New_Visitor          1428\n",
       "Other                  72\n",
       "Name: user_type, dtype: int64"
      ]
     },
     "execution_count": 13,
     "metadata": {},
     "output_type": "execute_result"
    }
   ],
   "source": [
    "plt.figure(figsize=(10,5))\n",
    "use_type = sns.countplot(x='user_type',hue='purchase' , data=data)\n",
    "plt.xticks(rotation=45)\n",
    "plt.show()\n",
    "data['user_type'].value_counts()"
   ]
  },
  {
   "cell_type": "markdown",
   "metadata": {},
   "source": [
    "The meanning of 'Other' category in 'user_type' is not so clear, and also we see that there are very few of them. We will transform this values to Returning_Visitor later (vast majority)."
   ]
  },
  {
   "cell_type": "code",
   "execution_count": 14,
   "metadata": {},
   "outputs": [
    {
     "data": {
      "image/png": "[encoded data removed]",
      "text/plain": [
       "<Figure size 720x360 with 1 Axes>"
      ]
     },
     "metadata": {
      "needs_background": "light"
     },
     "output_type": "display_data"
    },
    {
     "data": {
      "text/plain": [
       "1.0    4056\n",
       "3.0    2044\n",
       "4.0     996\n",
       "2.0     940\n",
       "6.0     695\n",
       "7.0     655\n",
       "9.0     431\n",
       "8.0     369\n",
       "5.0     274\n",
       "Name: Region, dtype: int64"
      ]
     },
     "execution_count": 14,
     "metadata": {},
     "output_type": "execute_result"
    }
   ],
   "source": [
    "plt.figure(figsize=(10,5))\n",
    "\n",
    "months = sns.countplot(x='Region',hue='purchase' , data=data)\n",
    "plt.xticks(rotation=45)\n",
    "plt.show()\n",
    "data['Region'].value_counts()"
   ]
  },
  {
   "cell_type": "markdown",
   "metadata": {},
   "source": [
    "It looks like the 'Region' feature might have a indevidual impact on the purchase percentage. We will turn it into dummy variable later on."
   ]
  },
  {
   "cell_type": "code",
   "execution_count": 15,
   "metadata": {},
   "outputs": [
    {
     "data": {
      "image/png": "[encoded data removed]",
      "text/plain": [
       "<Figure size 720x360 with 1 Axes>"
      ]
     },
     "metadata": {
      "needs_background": "light"
     },
     "output_type": "display_data"
    }
   ],
   "source": [
    "plt.figure(figsize=(10,5))\n",
    "\n",
    "months = sns.countplot(x='Month',hue='purchase' , data=data)\n",
    "plt.xticks(rotation=45)\n",
    "plt.show()\n"
   ]
  },
  {
   "cell_type": "markdown",
   "metadata": {},
   "source": [
    "At first glimps on the monthes distribution from our data, we see that: <br> 1. there is no documentation for entries on January and April to the website.<br> 2. it appears that there are some monthes that have a higher purchase rate then other. This is somthing that we will take under consideration."
   ]
  },
  {
   "cell_type": "code",
   "execution_count": 16,
   "metadata": {},
   "outputs": [
    {
     "name": "stdout",
     "output_type": "stream",
     "text": [
      "Total Purchase precentage in Feb is: 1.8518518518518516\n",
      "Total Purchase precentage in Mar is: 9.969040247678018\n",
      "Total Purchase precentage in May is: 10.745537276863844\n",
      "Total Purchase precentage in June is: 10.080645161290322\n",
      "Total Purchase precentage in Jul is: 14.713896457765669\n",
      "Total Purchase precentage in Aug is: 17.534246575342465\n",
      "Total Purchase precentage in Sep is: 19.525065963060687\n",
      "Total Purchase precentage in Oct is: 20.59447983014862\n",
      "Total Purchase precentage in Nov is: 25.374310480693456\n",
      "Total Purchase precentage in Dec is: 12.96551724137931\n",
      "The average purchased percentage per month is: 14.335459108607424\n"
     ]
    }
   ],
   "source": [
    "purch_dict = {'Feb':0, 'Mar':0, 'May':0, 'June':0, 'Jul':0, 'Aug':0, 'Sep':0, 'Oct':0, 'Nov':0, 'Dec':0}\n",
    "month_count = {'Feb':0, 'Mar':0, 'May':0, 'June':0, 'Jul':0, 'Aug':0, 'Sep':0, 'Oct':0, 'Nov':0, 'Dec':0}\n",
    "\n",
    "for m in range(1,len(data['Month'])-1):\n",
    "    curr_month = data['Month'][m]\n",
    "    if isinstance(curr_month,str):      \n",
    "        month_count[curr_month] += 1\n",
    "        if data['purchase'][m] == 1:\n",
    "            purch_dict[curr_month] += 1\n",
    "per_lst =[]\n",
    "for i in purch_dict.keys():\n",
    "    pur_per = 100*(purch_dict[i] / month_count[i])\n",
    "    purch_dict[i] = pur_per\n",
    "    per_lst.append(pur_per)\n",
    "    print(f'Total Purchase precentage in {i} is: {pur_per}')\n",
    "print(f'The average purchased percentage per month is: {sum(per_lst)/len(per_lst)}')\n"
   ]
  },
  {
   "cell_type": "markdown",
   "metadata": {},
   "source": [
    "We can see that the average purchase percentage per month is 14.335%. We will round it up (15%), and use this as a theshold to categorize and combine the months that are above the average as \"strong months\" (1), and \"average months\" (0).   "
   ]
  },
  {
   "cell_type": "markdown",
   "metadata": {},
   "source": [
    "## Outliers"
   ]
  },
  {
   "cell_type": "markdown",
   "metadata": {},
   "source": [
    "Based on the histograms we made before, we will check the sum of the data outliers. In case the outlier data is not a significant part of the data we will remove it.<br>\n",
    "For a start, although only features 'B' and 'Region' destribute normally we will try and find outliers with BoxPlot and the 1.5 IQR rule for each numerical feature, based on the Central Limit Theorem."
   ]
  },
  {
   "cell_type": "code",
   "execution_count": 17,
   "metadata": {},
   "outputs": [
    {
     "data": {
      "image/png": "[encoded data removed]",
      "text/plain": [
       "<Figure size 720x360 with 1 Axes>"
      ]
     },
     "metadata": {
      "needs_background": "light"
     },
     "output_type": "display_data"
    },
    {
     "name": "stdout",
     "output_type": "stream",
     "text": [
      "For feature: total_duration\n",
      " iqr = total_duration    1384.733333\n",
      "dtype: float64\n",
      " upper_bound= total_duration    3682.833333\n",
      "dtype: float64\n",
      " lower_bound = total_duration   -1856.1\n",
      "dtype: float64 \n"
     ]
    },
    {
     "data": {
      "image/png": "[encoded data removed]",
      "text/plain": [
       "<Figure size 432x288 with 1 Axes>"
      ]
     },
     "metadata": {
      "needs_background": "light"
     },
     "output_type": "display_data"
    },
    {
     "name": "stdout",
     "output_type": "stream",
     "text": [
      "For feature: num_of_product_pages\n",
      " iqr = num_of_product_pages    31.0\n",
      "dtype: float64\n",
      " upper_bound= num_of_product_pages    84.5\n",
      "dtype: float64\n",
      " lower_bound = num_of_product_pages   -39.5\n",
      "dtype: float64 \n"
     ]
    },
    {
     "data": {
      "image/png": "[encoded data removed]",
      "text/plain": [
       "<Figure size 432x288 with 1 Axes>"
      ]
     },
     "metadata": {
      "needs_background": "light"
     },
     "output_type": "display_data"
    },
    {
     "name": "stdout",
     "output_type": "stream",
     "text": [
      "For feature: PageValues\n",
      " iqr = PageValues    0.0\n",
      "dtype: float64\n",
      " upper_bound= PageValues    0.0\n",
      "dtype: float64\n",
      " lower_bound = PageValues    0.0\n",
      "dtype: float64 \n"
     ]
    },
    {
     "data": {
      "image/png": "[encoded data removed]",
      "text/plain": [
       "<Figure size 432x288 with 1 Axes>"
      ]
     },
     "metadata": {
      "needs_background": "light"
     },
     "output_type": "display_data"
    },
    {
     "name": "stdout",
     "output_type": "stream",
     "text": [
      "For feature: B\n",
      " iqr = B    13.476058\n",
      "dtype: float64\n",
      " upper_bound= B    126.720713\n",
      "dtype: float64\n",
      " lower_bound = B    72.816481\n",
      "dtype: float64 \n"
     ]
    },
    {
     "data": {
      "image/png": "[encoded data removed]",
      "text/plain": [
       "<Figure size 432x288 with 1 Axes>"
      ]
     },
     "metadata": {
      "needs_background": "light"
     },
     "output_type": "display_data"
    },
    {
     "name": "stdout",
     "output_type": "stream",
     "text": [
      "For feature: ExitRates\n",
      " iqr = ExitRates    0.035717\n",
      "dtype: float64\n",
      " upper_bound= ExitRates    0.103575\n",
      "dtype: float64\n",
      " lower_bound = ExitRates   -0.039291\n",
      "dtype: float64 \n"
     ]
    },
    {
     "data": {
      "image/png": "[encoded data removed]",
      "text/plain": [
       "<Figure size 432x288 with 1 Axes>"
      ]
     },
     "metadata": {
      "needs_background": "light"
     },
     "output_type": "display_data"
    },
    {
     "name": "stdout",
     "output_type": "stream",
     "text": [
      "For feature: info_page_duration\n",
      " iqr = info_page_duration    0.0\n",
      "dtype: float64\n",
      " upper_bound= info_page_duration    0.0\n",
      "dtype: float64\n",
      " lower_bound = info_page_duration    0.0\n",
      "dtype: float64 \n"
     ]
    },
    {
     "data": {
      "image/png": "[encoded data removed]",
      "text/plain": [
       "<Figure size 432x288 with 1 Axes>"
      ]
     },
     "metadata": {
      "needs_background": "light"
     },
     "output_type": "display_data"
    },
    {
     "name": "stdout",
     "output_type": "stream",
     "text": [
      "For feature: product_page_duration\n",
      " iqr = product_page_duration    0.0\n",
      "dtype: float64\n",
      " upper_bound= product_page_duration    0.0\n",
      "dtype: float64\n",
      " lower_bound = product_page_duration    0.0\n",
      "dtype: float64 \n"
     ]
    },
    {
     "data": {
      "image/png": "[encoded data removed]",
      "text/plain": [
       "<Figure size 432x288 with 1 Axes>"
      ]
     },
     "metadata": {
      "needs_background": "light"
     },
     "output_type": "display_data"
    },
    {
     "name": "stdout",
     "output_type": "stream",
     "text": [
      "For feature: admin_page_duration\n",
      " iqr = admin_page_duration    93.0\n",
      "dtype: float64\n",
      " upper_bound= admin_page_duration    232.5\n",
      "dtype: float64\n",
      " lower_bound = admin_page_duration   -139.5\n",
      "dtype: float64 \n"
     ]
    },
    {
     "data": {
      "image/png": "[encoded data removed]",
      "text/plain": [
       "<Figure size 432x288 with 1 Axes>"
      ]
     },
     "metadata": {
      "needs_background": "light"
     },
     "output_type": "display_data"
    },
    {
     "name": "stdout",
     "output_type": "stream",
     "text": [
      "For feature: num_of_admin_pages\n",
      " iqr = num_of_admin_pages    4.0\n",
      "dtype: float64\n",
      " upper_bound= num_of_admin_pages    10.0\n",
      "dtype: float64\n",
      " lower_bound = num_of_admin_pages   -6.0\n",
      "dtype: float64 \n"
     ]
    },
    {
     "data": {
      "image/png": "[encoded data removed]",
      "text/plain": [
       "<Figure size 432x288 with 1 Axes>"
      ]
     },
     "metadata": {
      "needs_background": "light"
     },
     "output_type": "display_data"
    },
    {
     "name": "stdout",
     "output_type": "stream",
     "text": [
      "For feature: num_of_info_pages\n",
      " iqr = num_of_info_pages    0.0\n",
      "dtype: float64\n",
      " upper_bound= num_of_info_pages    0.0\n",
      "dtype: float64\n",
      " lower_bound = num_of_info_pages    0.0\n",
      "dtype: float64 \n"
     ]
    }
   ],
   "source": [
    "bxplt_lst = ['total_duration','num_of_product_pages', 'PageValues', 'B', 'ExitRates', 'info_page_duration', 'product_page_duration', 'admin_page_duration', 'num_of_admin_pages', 'num_of_info_pages']\n",
    "plt.figure(figsize=(10,5))\n",
    "for col in bxplt_lst:\n",
    "    q1, q3, med, iqr, upper_bound, lower_bound = 0,0,0,0,0,0\n",
    "    \n",
    "    data[[col]].boxplot()\n",
    "    plt.show()\n",
    "    \n",
    "    # finding the 1st quartile\n",
    "    q1 = data[[col]].quantile(0.25)\n",
    "\n",
    "    # finding the 3rd quartile\n",
    "    q3 = data[[col]].quantile(0.75)\n",
    "    med = data[[col]].median()\n",
    "\n",
    "    # finding the iqr region\n",
    "    iqr = q3-q1\n",
    "\n",
    "    # finding upper and lower whiskers\n",
    "    upper_bound = q3+(1.5*iqr)\n",
    "    lower_bound = q1-(1.5*iqr)\n",
    "    print(f'For feature: {col}\\n iqr = {iqr}\\n upper_bound= {upper_bound}\\n lower_bound = {lower_bound} ')"
   ]
  },
  {
   "cell_type": "markdown",
   "metadata": {},
   "source": [
    "Except feature 'B', we got very bizarre and illogical upper & lower bounds.<br> We will use the upper & lower bounds that we got for feature 'B' (127 and 73), and find thresholds for the rest of the features manually. We will try to find thresholds that will remove no more then 1-2% of the data. <br> We have some speculations regarding features 'total_duration' & 'BounceRates' so we wait with them for now."
   ]
  },
  {
   "cell_type": "code",
   "execution_count": 18,
   "metadata": {},
   "outputs": [
    {
     "name": "stdout",
     "output_type": "stream",
     "text": [
      "num of product pages outliers sum:  126\n",
      "page values outliers sum:  104\n",
      "user type outliers sum:  72\n",
      "Exit rates outliers sum:  88\n",
      "Info page duration outliers sum:  141\n",
      "Product page duration outliers sum:  95\n",
      "Admin page duration outliers sum:  70\n",
      "Num of admin pages outliers sum:  95\n",
      "Num of info pages outliers sum:  35\n",
      "B outliers sum:  75\n"
     ]
    }
   ],
   "source": [
    "outl_nopp = data['num_of_product_pages'] > 200\n",
    "print(\"num of product pages outliers sum: \", outl_nopp.sum())\n",
    "\n",
    "outl_pv = data['PageValues'] > 85\n",
    "print(\"page values outliers sum: \", outl_pv.sum())\n",
    "\n",
    "outl_ut = data['user_type'] == 'Other'\n",
    "print(\"user type outliers sum: \", outl_ut.sum())\n",
    "\n",
    "outl_er = data['ExitRates'] < 0.001\n",
    "print(\"Exit rates outliers sum: \", outl_er.sum())\n",
    "\n",
    "outl_ipd = data['info_page_duration'] > 550\n",
    "print(\"Info page duration outliers sum: \", outl_ipd.sum())\n",
    "\n",
    "outl_ppd = data['product_page_duration'] > 750\n",
    "print(\"Product page duration outliers sum: \", outl_ppd.sum())\n",
    "\n",
    "outl_apd = data['admin_page_duration'] > 1000\n",
    "print(\"Admin page duration outliers sum: \", outl_apd.sum())\n",
    "\n",
    "outl_noap = data['num_of_admin_pages'] > 14\n",
    "print(\"Num of admin pages outliers sum: \", outl_noap.sum())\n",
    "\n",
    "outl_noip = data['num_of_info_pages'] > 7\n",
    "print(\"Num of info pages outliers sum: \", outl_noip.sum())\n",
    "\n",
    "outl_B = (data['B'] >= 127) | (data['B'] <= 73)\n",
    "print(\"B outliers sum: \", outl_B.sum())"
   ]
  },
  {
   "cell_type": "markdown",
   "metadata": {},
   "source": [
    "As we can see the outliers data rows are insignificant and it will not harm the data if we will remove it. Lets do it.<br>We will split 'A' to groups as we mentioned before\n",
    "\n",
    "In addition and as mentioned before, we will now remove the following columns: 'Id', 'D', 'C', 'internet_browser'. \n",
    "We will handle the 'month' & 'device' features as mentioned before.\n"
   ]
  },
  {
   "cell_type": "code",
   "execution_count": 19,
   "metadata": {},
   "outputs": [],
   "source": [
    "def remove_outliers(data):\n",
    "\n",
    "    # remove B outliers values >= 127 or values <= 73\n",
    "    # based on our 1.5 iqr rule\n",
    "    data.drop(data[(data['B'] >= 127) | (data['B'] <= 73)].index, inplace = True)\n",
    "    \n",
    "    #remove num_of_product_pages values > 200\n",
    "    data.drop(data[data['num_of_product_pages'] > 200].index, inplace = True)\n",
    "\n",
    "    #remove PageValues values > 85\n",
    "    data.drop(data[data['PageValues'] > 85].index, inplace = True)\n",
    "\n",
    "    #remove Exit rates values < 0.001\n",
    "    data.drop(data[data['ExitRates'] < 0.001].index, inplace = True)\n",
    "\n",
    "    #remove info page duration values > 550\n",
    "    data.drop(data[data['info_page_duration'] > 550].index, inplace = True)\n",
    "\n",
    "    #remove product page duration values > 750\n",
    "    data.drop(data[data['product_page_duration'] > 750].index, inplace = True)\n",
    "\n",
    "    #remove admin page duration > 1000\n",
    "    data.drop(data[data['admin_page_duration'] > 1000].index, inplace = True)\n",
    "\n",
    "    #remove num of admin page duration > 14\n",
    "    data.drop(data[data['num_of_admin_pages'] > 14].index, inplace = True)\n",
    "    \n",
    "    #remove num of info pages  > 7\n",
    "    data.drop(data[data['num_of_info_pages'] > 7].index, inplace = True)\n",
    "\n",
    "    # Column 'A'\n",
    "    data.drop(data[data['A'] == 14.0].index, inplace = True)\n",
    "    data.drop(data[data['A'] == 16.0].index, inplace = True)\n",
    "    data.drop(data[data['A'] == 17.0].index, inplace = True)\n",
    "    data.drop(data[data['A'] == 18.0].index, inplace = True)\n",
    "    data.drop(data[data['A'] == 19.0].index, inplace = True)\n",
    "\n",
    "    return data\n",
    "\n",
    "def drop_process(data):\n",
    "    \n",
    "    data.drop('C', inplace=True, axis=1)\n",
    "    data.drop('D', inplace=True, axis=1)\n",
    "    data.drop('id', inplace=True, axis=1)\n",
    "    data.drop('internet_browser', inplace=True, axis=1)\n",
    "\n",
    "    #Months\n",
    "    data['Month'] = data['Month'].replace({'Feb':0, 'Mar':0, 'May':0, 'June':0, 'Jul':0, 'Aug':1, 'Sep':1, 'Oct':1, 'Nov':1, 'Dec':0})\n",
    "\n",
    "    # Column 'device'\n",
    "    data.loc[data[\"device\"] > 4, \"device\"] = 4\n",
    "\n",
    "    return data\n",
    "\n",
    "data = remove_outliers(data)\n",
    "data = drop_process(data)"
   ]
  },
  {
   "cell_type": "markdown",
   "metadata": {},
   "source": [
    "## Filling in missing values"
   ]
  },
  {
   "cell_type": "markdown",
   "metadata": {},
   "source": [
    "For a start, lets have a look on our missing values:"
   ]
  },
  {
   "cell_type": "code",
   "execution_count": 20,
   "metadata": {},
   "outputs": [
    {
     "data": {
      "text/plain": [
       "num_of_admin_pages        567\n",
       "admin_page_duration       394\n",
       "num_of_info_pages         632\n",
       "info_page_duration        294\n",
       "num_of_product_pages      377\n",
       "product_page_duration     294\n",
       "total_duration           4454\n",
       "BounceRates                20\n",
       "ExitRates                  25\n",
       "PageValues                 27\n",
       "closeness_to_holiday      470\n",
       "Month                      24\n",
       "device                    306\n",
       "Region                     18\n",
       "user_type                  22\n",
       "Weekend                    22\n",
       "A                         671\n",
       "B                          23\n",
       "dtype: int64"
      ]
     },
     "execution_count": 20,
     "metadata": {},
     "output_type": "execute_result"
    }
   ],
   "source": [
    "Nans = data.isnull().sum()\n",
    "Nans[Nans>0]"
   ]
  },
  {
   "cell_type": "markdown",
   "metadata": {},
   "source": [
    "Based on our understanding of the data so far, We will fill in some of the missing values in the data as follows: <br>1. 'B' that seems to be distrebuting normaly, with the mean value of the feature.<br> 2. 'num of info pages', 'info page duration', 'num of product pages' and 'exit rate'  we will fiil with the mean value, based on the histogram we presented before. <br>3. 'device', 'Region', 'closeness to holiday', 'num_of_admin_pages', 'admin page duration', 'product page duration'  and 'page values' with median value. <br>4. 'user_type' Nans as Returning_Visitor, 'Weekend' to 0 (vast majority) <br> 5. 'Months' as \"average months\" (0).<br> 6. 'A' with respect to the weight of each category."
   ]
  },
  {
   "cell_type": "code",
   "execution_count": 21,
   "metadata": {},
   "outputs": [
    {
     "data": {
      "text/plain": [
       "total_duration    4454\n",
       "BounceRates         20\n",
       "dtype: int64"
      ]
     },
     "execution_count": 21,
     "metadata": {},
     "output_type": "execute_result"
    }
   ],
   "source": [
    "# stats to use for NA filling\n",
    "##means   \n",
    "B_mean = data['B'].mean()\n",
    "num_inf_pg = data['num_of_info_pages'].mean()\n",
    "inf_pg_dr = data['info_page_duration'].mean()\n",
    "num_pr_pg = data['num_of_product_pages'].mean()\n",
    "ex_rt = data['ExitRates'].mean()\n",
    "##medians\n",
    "holiday = data['closeness_to_holiday'].median()\n",
    "device = data['device'].median()\n",
    "region = data['Region'].median()\n",
    "ad_pg = data['num_of_admin_pages'].median()\n",
    "ad_pg_dr = data['admin_page_duration'].median()\n",
    "pr_pg_dr = data['product_page_duration'].median()\n",
    "pg_val = data['PageValues'].median()\n",
    "\n",
    "## A by weights\n",
    "A_dict = {3:'w',13:'w', 15:'w', 1:'av', 4:'av', 6:'av', 9:'av', 11:'av', 2:'s', 5:'s', 7:'s', 8:'s', 10:'s', 20:'s'}\n",
    "data['A'] = data['A'].replace(A_dict)\n",
    "data['A'] = data['A'].fillna(0)\n",
    "\n",
    "def fill_na(data):\n",
    "    # Mean\n",
    "    data['B'] = data['B'].fillna(B_mean)\n",
    "    data['num_of_info_pages'] = data['num_of_info_pages'].fillna(num_inf_pg)\n",
    "    data['info_page_duration'] = data['info_page_duration'].fillna(inf_pg_dr)\n",
    "    data['num_of_product_pages'] = data['num_of_product_pages'].fillna(num_pr_pg)\n",
    "    data['ExitRates'] = data['ExitRates'].fillna(ex_rt)\n",
    "\n",
    "    # Median\n",
    "    data['closeness_to_holiday'] = data['closeness_to_holiday'].fillna(holiday)\n",
    "    data['device'] = data['device'].fillna(device)\n",
    "    data['Region'] = data['Region'].fillna(region)\n",
    "    data['num_of_admin_pages'] = data['num_of_admin_pages'].fillna(ad_pg)\n",
    "    data['admin_page_duration'] = data['admin_page_duration'].fillna(ad_pg_dr)\n",
    "    data['product_page_duration'] = data['product_page_duration'].fillna(pr_pg_dr)\n",
    "    data['PageValues'] = data['PageValues'].fillna(pg_val)\n",
    "\n",
    "    # Vast majority\n",
    "    data['user_type'] = data['user_type'].fillna('Returning_Visitor')\n",
    "    data['Weekend'] = data['Weekend'].fillna(0.0)\n",
    "\n",
    "    # Months\n",
    "    data['Month'] = data['Month'].fillna(0)\n",
    "\n",
    "    # A by weights\n",
    "    A_lst = ['w','av', 's']\n",
    "    count_a = 0\n",
    "    for a in data['A']:\n",
    "        if a == 0:\n",
    "            fill_a = random.choices(A_lst,[0.24, 0.37, 0.39,], k=1)\n",
    "            data['A'][count_a] = fill_a[0]\n",
    "        count_a += 1\n",
    "    \n",
    "    return data\n",
    "\n",
    "data = fill_na(data)\n",
    "\n",
    "Nans = data.isnull().sum()\n",
    "Nans[Nans>0]"
   ]
  },
  {
   "cell_type": "markdown",
   "metadata": {},
   "source": [
    "We have left with 'total duration' and 'bounce rate' that still have missing value. We will examine the correlation table, and might have some insights:"
   ]
  },
  {
   "cell_type": "code",
   "execution_count": 22,
   "metadata": {},
   "outputs": [
    {
     "data": {
      "text/plain": [
       "<AxesSubplot:>"
      ]
     },
     "execution_count": 22,
     "metadata": {},
     "output_type": "execute_result"
    },
    {
     "data": {
      "image/png": "[encoded data removed]",
      "text/plain": [
       "<Figure size 432x288 with 2 Axes>"
      ]
     },
     "metadata": {
      "needs_background": "light"
     },
     "output_type": "display_data"
    }
   ],
   "source": [
    "corr = data.corr()\n",
    "sns.heatmap(corr)\n"
   ]
  },
  {
   "cell_type": "code",
   "execution_count": 23,
   "metadata": {},
   "outputs": [
    {
     "data": {
      "text/html": [
       "<style type=\"text/css\">\n",
       "#T_38d6e_row0_col0, #T_38d6e_row1_col1, #T_38d6e_row2_col2, #T_38d6e_row3_col3, #T_38d6e_row3_col5, #T_38d6e_row4_col4, #T_38d6e_row5_col3, #T_38d6e_row5_col5, #T_38d6e_row6_col6, #T_38d6e_row7_col7, #T_38d6e_row8_col8, #T_38d6e_row9_col9, #T_38d6e_row10_col10, #T_38d6e_row11_col11, #T_38d6e_row12_col12, #T_38d6e_row13_col13, #T_38d6e_row14_col14, #T_38d6e_row15_col15, #T_38d6e_row16_col16 {\n",
       "  background-color: #800026;\n",
       "  color: #f1f1f1;\n",
       "}\n",
       "#T_38d6e_row0_col1, #T_38d6e_row2_col5 {\n",
       "  background-color: #ea2920;\n",
       "  color: #f1f1f1;\n",
       "}\n",
       "#T_38d6e_row0_col2 {\n",
       "  background-color: #fea546;\n",
       "  color: #000000;\n",
       "}\n",
       "#T_38d6e_row0_col3 {\n",
       "  background-color: #febb56;\n",
       "  color: #000000;\n",
       "}\n",
       "#T_38d6e_row0_col4 {\n",
       "  background-color: #fd7836;\n",
       "  color: #f1f1f1;\n",
       "}\n",
       "#T_38d6e_row0_col5 {\n",
       "  background-color: #feba55;\n",
       "  color: #000000;\n",
       "}\n",
       "#T_38d6e_row0_col6 {\n",
       "  background-color: #fd7e38;\n",
       "  color: #f1f1f1;\n",
       "}\n",
       "#T_38d6e_row0_col7, #T_38d6e_row0_col12, #T_38d6e_row6_col8, #T_38d6e_row6_col13, #T_38d6e_row7_col14, #T_38d6e_row10_col13, #T_38d6e_row13_col15, #T_38d6e_row16_col15 {\n",
       "  background-color: #fffdc8;\n",
       "  color: #000000;\n",
       "}\n",
       "#T_38d6e_row0_col8, #T_38d6e_row2_col12, #T_38d6e_row3_col12, #T_38d6e_row5_col12, #T_38d6e_row14_col15 {\n",
       "  background-color: #fffcc5;\n",
       "  color: #000000;\n",
       "}\n",
       "#T_38d6e_row0_col9 {\n",
       "  background-color: #fece6a;\n",
       "  color: #000000;\n",
       "}\n",
       "#T_38d6e_row0_col10, #T_38d6e_row2_col7, #T_38d6e_row8_col11, #T_38d6e_row10_col16 {\n",
       "  background-color: #fff0a8;\n",
       "  color: #000000;\n",
       "}\n",
       "#T_38d6e_row0_col11 {\n",
       "  background-color: #fed06c;\n",
       "  color: #000000;\n",
       "}\n",
       "#T_38d6e_row0_col13, #T_38d6e_row6_col12 {\n",
       "  background-color: #fffac1;\n",
       "  color: #000000;\n",
       "}\n",
       "#T_38d6e_row0_col14, #T_38d6e_row1_col8, #T_38d6e_row1_col14 {\n",
       "  background-color: #fff4b2;\n",
       "  color: #000000;\n",
       "}\n",
       "#T_38d6e_row0_col15, #T_38d6e_row2_col13 {\n",
       "  background-color: #fffecb;\n",
       "  color: #000000;\n",
       "}\n",
       "#T_38d6e_row0_col16 {\n",
       "  background-color: #fecf6b;\n",
       "  color: #000000;\n",
       "}\n",
       "#T_38d6e_row1_col0 {\n",
       "  background-color: #e6211e;\n",
       "  color: #f1f1f1;\n",
       "}\n",
       "#T_38d6e_row1_col2, #T_38d6e_row3_col1, #T_38d6e_row5_col1, #T_38d6e_row9_col0 {\n",
       "  background-color: #feb651;\n",
       "  color: #000000;\n",
       "}\n",
       "#T_38d6e_row1_col3, #T_38d6e_row1_col5 {\n",
       "  background-color: #feca66;\n",
       "  color: #000000;\n",
       "}\n",
       "#T_38d6e_row1_col4, #T_38d6e_row3_col6, #T_38d6e_row5_col6 {\n",
       "  background-color: #fd9a42;\n",
       "  color: #000000;\n",
       "}\n",
       "#T_38d6e_row1_col6 {\n",
       "  background-color: #fd8e3c;\n",
       "  color: #f1f1f1;\n",
       "}\n",
       "#T_38d6e_row1_col7, #T_38d6e_row7_col1, #T_38d6e_row12_col14, #T_38d6e_row13_col14 {\n",
       "  background-color: #fff7b7;\n",
       "  color: #000000;\n",
       "}\n",
       "#T_38d6e_row1_col9, #T_38d6e_row15_col8 {\n",
       "  background-color: #fed572;\n",
       "  color: #000000;\n",
       "}\n",
       "#T_38d6e_row1_col10, #T_38d6e_row9_col8 {\n",
       "  background-color: #ffeea3;\n",
       "  color: #000000;\n",
       "}\n",
       "#T_38d6e_row1_col11, #T_38d6e_row13_col8 {\n",
       "  background-color: #fed976;\n",
       "  color: #000000;\n",
       "}\n",
       "#T_38d6e_row1_col12, #T_38d6e_row3_col13, #T_38d6e_row5_col13, #T_38d6e_row7_col13, #T_38d6e_row7_col15, #T_38d6e_row8_col13, #T_38d6e_row8_col15, #T_38d6e_row9_col13, #T_38d6e_row12_col15, #T_38d6e_row16_col13 {\n",
       "  background-color: #fffdc6;\n",
       "  color: #000000;\n",
       "}\n",
       "#T_38d6e_row1_col13, #T_38d6e_row6_col14, #T_38d6e_row10_col12 {\n",
       "  background-color: #fff8ba;\n",
       "  color: #000000;\n",
       "}\n",
       "#T_38d6e_row1_col15, #T_38d6e_row2_col15, #T_38d6e_row4_col7, #T_38d6e_row4_col8, #T_38d6e_row4_col13, #T_38d6e_row6_col7, #T_38d6e_row8_col0, #T_38d6e_row8_col1, #T_38d6e_row8_col2, #T_38d6e_row8_col3, #T_38d6e_row8_col4, #T_38d6e_row8_col5, #T_38d6e_row8_col6, #T_38d6e_row8_col9, #T_38d6e_row8_col14, #T_38d6e_row8_col16, #T_38d6e_row9_col15, #T_38d6e_row10_col11, #T_38d6e_row10_col15, #T_38d6e_row11_col10, #T_38d6e_row11_col15, #T_38d6e_row16_col12 {\n",
       "  background-color: #ffffcc;\n",
       "  color: #000000;\n",
       "}\n",
       "#T_38d6e_row1_col16, #T_38d6e_row6_col9, #T_38d6e_row10_col7, #T_38d6e_row14_col0, #T_38d6e_row15_col4 {\n",
       "  background-color: #fed673;\n",
       "  color: #000000;\n",
       "}\n",
       "#T_38d6e_row2_col0, #T_38d6e_row2_col6 {\n",
       "  background-color: #fd913e;\n",
       "  color: #000000;\n",
       "}\n",
       "#T_38d6e_row2_col1 {\n",
       "  background-color: #fea948;\n",
       "  color: #000000;\n",
       "}\n",
       "#T_38d6e_row2_col3 {\n",
       "  background-color: #e92720;\n",
       "  color: #f1f1f1;\n",
       "}\n",
       "#T_38d6e_row2_col4 {\n",
       "  background-color: #fd953f;\n",
       "  color: #000000;\n",
       "}\n",
       "#T_38d6e_row2_col8, #T_38d6e_row9_col10, #T_38d6e_row12_col2 {\n",
       "  background-color: #ffeb9c;\n",
       "  color: #000000;\n",
       "}\n",
       "#T_38d6e_row2_col9 {\n",
       "  background-color: #fedd7f;\n",
       "  color: #000000;\n",
       "}\n",
       "#T_38d6e_row2_col10, #T_38d6e_row6_col10, #T_38d6e_row12_col9 {\n",
       "  background-color: #ffea99;\n",
       "  color: #000000;\n",
       "}\n",
       "#T_38d6e_row2_col11, #T_38d6e_row2_col16, #T_38d6e_row3_col16, #T_38d6e_row5_col16, #T_38d6e_row12_col0 {\n",
       "  background-color: #fedb7b;\n",
       "  color: #000000;\n",
       "}\n",
       "#T_38d6e_row2_col14, #T_38d6e_row7_col4, #T_38d6e_row16_col7 {\n",
       "  background-color: #fff4b0;\n",
       "  color: #000000;\n",
       "}\n",
       "#T_38d6e_row3_col0, #T_38d6e_row5_col0 {\n",
       "  background-color: #fd9f44;\n",
       "  color: #000000;\n",
       "}\n",
       "#T_38d6e_row3_col2 {\n",
       "  background-color: #e8241f;\n",
       "  color: #f1f1f1;\n",
       "}\n",
       "#T_38d6e_row3_col4, #T_38d6e_row5_col4 {\n",
       "  background-color: #fea245;\n",
       "  color: #000000;\n",
       "}\n",
       "#T_38d6e_row3_col7, #T_38d6e_row5_col7, #T_38d6e_row13_col2, #T_38d6e_row16_col10 {\n",
       "  background-color: #ffeda1;\n",
       "  color: #000000;\n",
       "}\n",
       "#T_38d6e_row3_col8, #T_38d6e_row5_col8, #T_38d6e_row14_col2, #T_38d6e_row14_col7, #T_38d6e_row15_col16 {\n",
       "  background-color: #ffe794;\n",
       "  color: #000000;\n",
       "}\n",
       "#T_38d6e_row3_col9, #T_38d6e_row3_col11, #T_38d6e_row5_col9, #T_38d6e_row5_col11 {\n",
       "  background-color: #fede80;\n",
       "  color: #000000;\n",
       "}\n",
       "#T_38d6e_row3_col10, #T_38d6e_row5_col10, #T_38d6e_row13_col9, #T_38d6e_row15_col9 {\n",
       "  background-color: #ffe998;\n",
       "  color: #000000;\n",
       "}\n",
       "#T_38d6e_row3_col14, #T_38d6e_row4_col14, #T_38d6e_row5_col14, #T_38d6e_row7_col0 {\n",
       "  background-color: #fff5b3;\n",
       "  color: #000000;\n",
       "}\n",
       "#T_38d6e_row3_col15, #T_38d6e_row4_col15, #T_38d6e_row5_col15, #T_38d6e_row6_col15, #T_38d6e_row9_col12, #T_38d6e_row11_col12 {\n",
       "  background-color: #fffec9;\n",
       "  color: #000000;\n",
       "}\n",
       "#T_38d6e_row4_col0 {\n",
       "  background-color: #fd7c37;\n",
       "  color: #f1f1f1;\n",
       "}\n",
       "#T_38d6e_row4_col1 {\n",
       "  background-color: #fea848;\n",
       "  color: #000000;\n",
       "}\n",
       "#T_38d6e_row4_col2, #T_38d6e_row11_col4 {\n",
       "  background-color: #feae4a;\n",
       "  color: #000000;\n",
       "}\n",
       "#T_38d6e_row4_col3, #T_38d6e_row4_col5, #T_38d6e_row6_col11 {\n",
       "  background-color: #fec45f;\n",
       "  color: #000000;\n",
       "}\n",
       "#T_38d6e_row4_col6 {\n",
       "  background-color: #c10325;\n",
       "  color: #f1f1f1;\n",
       "}\n",
       "#T_38d6e_row4_col9, #T_38d6e_row7_col10, #T_38d6e_row13_col0, #T_38d6e_row14_col6, #T_38d6e_row15_col6 {\n",
       "  background-color: #fed977;\n",
       "  color: #000000;\n",
       "}\n",
       "#T_38d6e_row4_col10, #T_38d6e_row15_col11 {\n",
       "  background-color: #ffe58f;\n",
       "  color: #000000;\n",
       "}\n",
       "#T_38d6e_row4_col11 {\n",
       "  background-color: #fec15d;\n",
       "  color: #000000;\n",
       "}\n",
       "#T_38d6e_row4_col12, #T_38d6e_row7_col3, #T_38d6e_row7_col5, #T_38d6e_row8_col12 {\n",
       "  background-color: #fffac0;\n",
       "  color: #000000;\n",
       "}\n",
       "#T_38d6e_row4_col16 {\n",
       "  background-color: #fec965;\n",
       "  color: #000000;\n",
       "}\n",
       "#T_38d6e_row5_col2 {\n",
       "  background-color: #e9261f;\n",
       "  color: #f1f1f1;\n",
       "}\n",
       "#T_38d6e_row6_col0 {\n",
       "  background-color: #fd8239;\n",
       "  color: #f1f1f1;\n",
       "}\n",
       "#T_38d6e_row6_col1 {\n",
       "  background-color: #fd9841;\n",
       "  color: #000000;\n",
       "}\n",
       "#T_38d6e_row6_col2 {\n",
       "  background-color: #fea747;\n",
       "  color: #000000;\n",
       "}\n",
       "#T_38d6e_row6_col3, #T_38d6e_row6_col5 {\n",
       "  background-color: #feb852;\n",
       "  color: #000000;\n",
       "}\n",
       "#T_38d6e_row6_col4 {\n",
       "  background-color: #c00225;\n",
       "  color: #f1f1f1;\n",
       "}\n",
       "#T_38d6e_row6_col16 {\n",
       "  background-color: #fec662;\n",
       "  color: #000000;\n",
       "}\n",
       "#T_38d6e_row7_col2, #T_38d6e_row10_col14 {\n",
       "  background-color: #fff9be;\n",
       "  color: #000000;\n",
       "}\n",
       "#T_38d6e_row7_col6 {\n",
       "  background-color: #fff5b5;\n",
       "  color: #000000;\n",
       "}\n",
       "#T_38d6e_row7_col8 {\n",
       "  background-color: #9f0026;\n",
       "  color: #f1f1f1;\n",
       "}\n",
       "#T_38d6e_row7_col9, #T_38d6e_row7_col12 {\n",
       "  background-color: #fff8bb;\n",
       "  color: #000000;\n",
       "}\n",
       "#T_38d6e_row7_col11 {\n",
       "  background-color: #ffeda0;\n",
       "  color: #000000;\n",
       "}\n",
       "#T_38d6e_row7_col16 {\n",
       "  background-color: #fff9bd;\n",
       "  color: #000000;\n",
       "}\n",
       "#T_38d6e_row8_col7 {\n",
       "  background-color: #a20026;\n",
       "  color: #f1f1f1;\n",
       "}\n",
       "#T_38d6e_row8_col10, #T_38d6e_row11_col1, #T_38d6e_row12_col8 {\n",
       "  background-color: #fed470;\n",
       "  color: #000000;\n",
       "}\n",
       "#T_38d6e_row9_col1 {\n",
       "  background-color: #fecb67;\n",
       "  color: #000000;\n",
       "}\n",
       "#T_38d6e_row9_col2 {\n",
       "  background-color: #fee084;\n",
       "  color: #000000;\n",
       "}\n",
       "#T_38d6e_row9_col3, #T_38d6e_row9_col5, #T_38d6e_row13_col11 {\n",
       "  background-color: #ffe48d;\n",
       "  color: #000000;\n",
       "}\n",
       "#T_38d6e_row9_col4, #T_38d6e_row10_col8 {\n",
       "  background-color: #febe59;\n",
       "  color: #000000;\n",
       "}\n",
       "#T_38d6e_row9_col6 {\n",
       "  background-color: #febd57;\n",
       "  color: #000000;\n",
       "}\n",
       "#T_38d6e_row9_col7 {\n",
       "  background-color: #fff2ac;\n",
       "  color: #000000;\n",
       "}\n",
       "#T_38d6e_row9_col11, #T_38d6e_row10_col6, #T_38d6e_row12_col7, #T_38d6e_row13_col1, #T_38d6e_row14_col8, #T_38d6e_row14_col11, #T_38d6e_row16_col2 {\n",
       "  background-color: #fede82;\n",
       "  color: #000000;\n",
       "}\n",
       "#T_38d6e_row9_col14, #T_38d6e_row12_col13, #T_38d6e_row13_col12 {\n",
       "  background-color: #fff7b9;\n",
       "  color: #000000;\n",
       "}\n",
       "#T_38d6e_row9_col16 {\n",
       "  background-color: #fc4d2a;\n",
       "  color: #f1f1f1;\n",
       "}\n",
       "#T_38d6e_row10_col0, #T_38d6e_row12_col11, #T_38d6e_row14_col10 {\n",
       "  background-color: #ffe691;\n",
       "  color: #000000;\n",
       "}\n",
       "#T_38d6e_row10_col1, #T_38d6e_row14_col5 {\n",
       "  background-color: #ffec9d;\n",
       "  color: #000000;\n",
       "}\n",
       "#T_38d6e_row10_col2 {\n",
       "  background-color: #fff1a9;\n",
       "  color: #000000;\n",
       "}\n",
       "#T_38d6e_row10_col3, #T_38d6e_row10_col5, #T_38d6e_row16_col14 {\n",
       "  background-color: #fff3af;\n",
       "  color: #000000;\n",
       "}\n",
       "#T_38d6e_row10_col4, #T_38d6e_row12_col6 {\n",
       "  background-color: #fed774;\n",
       "  color: #000000;\n",
       "}\n",
       "#T_38d6e_row10_col9, #T_38d6e_row13_col5 {\n",
       "  background-color: #ffefa5;\n",
       "  color: #000000;\n",
       "}\n",
       "#T_38d6e_row11_col0 {\n",
       "  background-color: #fec05b;\n",
       "  color: #000000;\n",
       "}\n",
       "#T_38d6e_row11_col2, #T_38d6e_row16_col3, #T_38d6e_row16_col5 {\n",
       "  background-color: #fee288;\n",
       "  color: #000000;\n",
       "}\n",
       "#T_38d6e_row11_col3, #T_38d6e_row11_col5, #T_38d6e_row13_col16, #T_38d6e_row14_col9 {\n",
       "  background-color: #ffe895;\n",
       "  color: #000000;\n",
       "}\n",
       "#T_38d6e_row11_col6 {\n",
       "  background-color: #feb34d;\n",
       "  color: #000000;\n",
       "}\n",
       "#T_38d6e_row11_col7, #T_38d6e_row12_col16 {\n",
       "  background-color: #ffea9b;\n",
       "  color: #000000;\n",
       "}\n",
       "#T_38d6e_row11_col8, #T_38d6e_row12_col1, #T_38d6e_row13_col7, #T_38d6e_row14_col16, #T_38d6e_row15_col1 {\n",
       "  background-color: #fee38b;\n",
       "  color: #000000;\n",
       "}\n",
       "#T_38d6e_row11_col9 {\n",
       "  background-color: #fee289;\n",
       "  color: #000000;\n",
       "}\n",
       "#T_38d6e_row11_col13, #T_38d6e_row14_col12 {\n",
       "  background-color: #fffcc4;\n",
       "  color: #000000;\n",
       "}\n",
       "#T_38d6e_row11_col14 {\n",
       "  background-color: #fff1ab;\n",
       "  color: #000000;\n",
       "}\n",
       "#T_38d6e_row11_col16, #T_38d6e_row16_col1 {\n",
       "  background-color: #fecc68;\n",
       "  color: #000000;\n",
       "}\n",
       "#T_38d6e_row12_col3, #T_38d6e_row12_col5, #T_38d6e_row15_col3, #T_38d6e_row15_col5, #T_38d6e_row16_col8 {\n",
       "  background-color: #ffefa4;\n",
       "  color: #000000;\n",
       "}\n",
       "#T_38d6e_row12_col4, #T_38d6e_row14_col4 {\n",
       "  background-color: #fed36f;\n",
       "  color: #000000;\n",
       "}\n",
       "#T_38d6e_row12_col10, #T_38d6e_row15_col7 {\n",
       "  background-color: #fee085;\n",
       "  color: #000000;\n",
       "}\n",
       "#T_38d6e_row13_col3 {\n",
       "  background-color: #fff0a7;\n",
       "  color: #000000;\n",
       "}\n",
       "#T_38d6e_row13_col4, #T_38d6e_row13_col6, #T_38d6e_row15_col0 {\n",
       "  background-color: #fedb7a;\n",
       "  color: #000000;\n",
       "}\n",
       "#T_38d6e_row13_col10, #T_38d6e_row15_col10 {\n",
       "  background-color: #ffe590;\n",
       "  color: #000000;\n",
       "}\n",
       "#T_38d6e_row14_col1 {\n",
       "  background-color: #fedf83;\n",
       "  color: #000000;\n",
       "}\n",
       "#T_38d6e_row14_col3, #T_38d6e_row15_col2 {\n",
       "  background-color: #ffec9f;\n",
       "  color: #000000;\n",
       "}\n",
       "#T_38d6e_row14_col13, #T_38d6e_row15_col12, #T_38d6e_row15_col13 {\n",
       "  background-color: #fffbc2;\n",
       "  color: #000000;\n",
       "}\n",
       "#T_38d6e_row15_col14 {\n",
       "  background-color: #fff6b6;\n",
       "  color: #000000;\n",
       "}\n",
       "#T_38d6e_row16_col0 {\n",
       "  background-color: #feb953;\n",
       "  color: #000000;\n",
       "}\n",
       "#T_38d6e_row16_col4 {\n",
       "  background-color: #feaf4b;\n",
       "  color: #000000;\n",
       "}\n",
       "#T_38d6e_row16_col6 {\n",
       "  background-color: #feb04b;\n",
       "  color: #000000;\n",
       "}\n",
       "#T_38d6e_row16_col9 {\n",
       "  background-color: #fc4f2a;\n",
       "  color: #f1f1f1;\n",
       "}\n",
       "#T_38d6e_row16_col11 {\n",
       "  background-color: #fec863;\n",
       "  color: #000000;\n",
       "}\n",
       "</style>\n",
       "<table id=\"T_38d6e_\">\n",
       "  <thead>\n",
       "    <tr>\n",
       "      <th class=\"blank level0\" >&nbsp;</th>\n",
       "      <th class=\"col_heading level0 col0\" >num_of_admin_pages</th>\n",
       "      <th class=\"col_heading level0 col1\" >admin_page_duration</th>\n",
       "      <th class=\"col_heading level0 col2\" >num_of_info_pages</th>\n",
       "      <th class=\"col_heading level0 col3\" >info_page_duration</th>\n",
       "      <th class=\"col_heading level0 col4\" >num_of_product_pages</th>\n",
       "      <th class=\"col_heading level0 col5\" >product_page_duration</th>\n",
       "      <th class=\"col_heading level0 col6\" >total_duration</th>\n",
       "      <th class=\"col_heading level0 col7\" >BounceRates</th>\n",
       "      <th class=\"col_heading level0 col8\" >ExitRates</th>\n",
       "      <th class=\"col_heading level0 col9\" >PageValues</th>\n",
       "      <th class=\"col_heading level0 col10\" >closeness_to_holiday</th>\n",
       "      <th class=\"col_heading level0 col11\" >Month</th>\n",
       "      <th class=\"col_heading level0 col12\" >device</th>\n",
       "      <th class=\"col_heading level0 col13\" >Region</th>\n",
       "      <th class=\"col_heading level0 col14\" >Weekend</th>\n",
       "      <th class=\"col_heading level0 col15\" >B</th>\n",
       "      <th class=\"col_heading level0 col16\" >purchase</th>\n",
       "    </tr>\n",
       "  </thead>\n",
       "  <tbody>\n",
       "    <tr>\n",
       "      <th id=\"T_38d6e_level0_row0\" class=\"row_heading level0 row0\" >num_of_admin_pages</th>\n",
       "      <td id=\"T_38d6e_row0_col0\" class=\"data row0 col0\" >1.00</td>\n",
       "      <td id=\"T_38d6e_row0_col1\" class=\"data row0 col1\" >0.64</td>\n",
       "      <td id=\"T_38d6e_row0_col2\" class=\"data row0 col2\" >0.32</td>\n",
       "      <td id=\"T_38d6e_row0_col3\" class=\"data row0 col3\" >0.26</td>\n",
       "      <td id=\"T_38d6e_row0_col4\" class=\"data row0 col4\" >0.38</td>\n",
       "      <td id=\"T_38d6e_row0_col5\" class=\"data row0 col5\" >0.26</td>\n",
       "      <td id=\"T_38d6e_row0_col6\" class=\"data row0 col6\" >0.37</td>\n",
       "      <td id=\"T_38d6e_row0_col7\" class=\"data row0 col7\" >-0.23</td>\n",
       "      <td id=\"T_38d6e_row0_col8\" class=\"data row0 col8\" >-0.32</td>\n",
       "      <td id=\"T_38d6e_row0_col9\" class=\"data row0 col9\" >0.15</td>\n",
       "      <td id=\"T_38d6e_row0_col10\" class=\"data row0 col10\" >-0.10</td>\n",
       "      <td id=\"T_38d6e_row0_col11\" class=\"data row0 col11\" >0.11</td>\n",
       "      <td id=\"T_38d6e_row0_col12\" class=\"data row0 col12\" >-0.01</td>\n",
       "      <td id=\"T_38d6e_row0_col13\" class=\"data row0 col13\" >0.01</td>\n",
       "      <td id=\"T_38d6e_row0_col14\" class=\"data row0 col14\" >0.02</td>\n",
       "      <td id=\"T_38d6e_row0_col15\" class=\"data row0 col15\" >-0.01</td>\n",
       "      <td id=\"T_38d6e_row0_col16\" class=\"data row0 col16\" >0.14</td>\n",
       "    </tr>\n",
       "    <tr>\n",
       "      <th id=\"T_38d6e_level0_row1\" class=\"row_heading level0 row1\" >admin_page_duration</th>\n",
       "      <td id=\"T_38d6e_row1_col0\" class=\"data row1 col0\" >0.64</td>\n",
       "      <td id=\"T_38d6e_row1_col1\" class=\"data row1 col1\" >1.00</td>\n",
       "      <td id=\"T_38d6e_row1_col2\" class=\"data row1 col2\" >0.26</td>\n",
       "      <td id=\"T_38d6e_row1_col3\" class=\"data row1 col3\" >0.20</td>\n",
       "      <td id=\"T_38d6e_row1_col4\" class=\"data row1 col4\" >0.26</td>\n",
       "      <td id=\"T_38d6e_row1_col5\" class=\"data row1 col5\" >0.20</td>\n",
       "      <td id=\"T_38d6e_row1_col6\" class=\"data row1 col6\" >0.33</td>\n",
       "      <td id=\"T_38d6e_row1_col7\" class=\"data row1 col7\" >-0.17</td>\n",
       "      <td id=\"T_38d6e_row1_col8\" class=\"data row1 col8\" >-0.25</td>\n",
       "      <td id=\"T_38d6e_row1_col9\" class=\"data row1 col9\" >0.12</td>\n",
       "      <td id=\"T_38d6e_row1_col10\" class=\"data row1 col10\" >-0.08</td>\n",
       "      <td id=\"T_38d6e_row1_col11\" class=\"data row1 col11\" >0.08</td>\n",
       "      <td id=\"T_38d6e_row1_col12\" class=\"data row1 col12\" >-0.01</td>\n",
       "      <td id=\"T_38d6e_row1_col13\" class=\"data row1 col13\" >0.03</td>\n",
       "      <td id=\"T_38d6e_row1_col14\" class=\"data row1 col14\" >0.02</td>\n",
       "      <td id=\"T_38d6e_row1_col15\" class=\"data row1 col15\" >-0.01</td>\n",
       "      <td id=\"T_38d6e_row1_col16\" class=\"data row1 col16\" >0.12</td>\n",
       "    </tr>\n",
       "    <tr>\n",
       "      <th id=\"T_38d6e_level0_row2\" class=\"row_heading level0 row2\" >num_of_info_pages</th>\n",
       "      <td id=\"T_38d6e_row2_col0\" class=\"data row2 col0\" >0.32</td>\n",
       "      <td id=\"T_38d6e_row2_col1\" class=\"data row2 col1\" >0.26</td>\n",
       "      <td id=\"T_38d6e_row2_col2\" class=\"data row2 col2\" >1.00</td>\n",
       "      <td id=\"T_38d6e_row2_col3\" class=\"data row2 col3\" >0.68</td>\n",
       "      <td id=\"T_38d6e_row2_col4\" class=\"data row2 col4\" >0.29</td>\n",
       "      <td id=\"T_38d6e_row2_col5\" class=\"data row2 col5\" >0.68</td>\n",
       "      <td id=\"T_38d6e_row2_col6\" class=\"data row2 col6\" >0.32</td>\n",
       "      <td id=\"T_38d6e_row2_col7\" class=\"data row2 col7\" >-0.12</td>\n",
       "      <td id=\"T_38d6e_row2_col8\" class=\"data row2 col8\" >-0.17</td>\n",
       "      <td id=\"T_38d6e_row2_col9\" class=\"data row2 col9\" >0.08</td>\n",
       "      <td id=\"T_38d6e_row2_col10\" class=\"data row2 col10\" >-0.05</td>\n",
       "      <td id=\"T_38d6e_row2_col11\" class=\"data row2 col11\" >0.06</td>\n",
       "      <td id=\"T_38d6e_row2_col12\" class=\"data row2 col12\" >-0.00</td>\n",
       "      <td id=\"T_38d6e_row2_col13\" class=\"data row2 col13\" >-0.02</td>\n",
       "      <td id=\"T_38d6e_row2_col14\" class=\"data row2 col14\" >0.03</td>\n",
       "      <td id=\"T_38d6e_row2_col15\" class=\"data row2 col15\" >-0.01</td>\n",
       "      <td id=\"T_38d6e_row2_col16\" class=\"data row2 col16\" >0.09</td>\n",
       "    </tr>\n",
       "    <tr>\n",
       "      <th id=\"T_38d6e_level0_row3\" class=\"row_heading level0 row3\" >info_page_duration</th>\n",
       "      <td id=\"T_38d6e_row3_col0\" class=\"data row3 col0\" >0.26</td>\n",
       "      <td id=\"T_38d6e_row3_col1\" class=\"data row3 col1\" >0.20</td>\n",
       "      <td id=\"T_38d6e_row3_col2\" class=\"data row3 col2\" >0.68</td>\n",
       "      <td id=\"T_38d6e_row3_col3\" class=\"data row3 col3\" >1.00</td>\n",
       "      <td id=\"T_38d6e_row3_col4\" class=\"data row3 col4\" >0.23</td>\n",
       "      <td id=\"T_38d6e_row3_col5\" class=\"data row3 col5\" >1.00</td>\n",
       "      <td id=\"T_38d6e_row3_col6\" class=\"data row3 col6\" >0.27</td>\n",
       "      <td id=\"T_38d6e_row3_col7\" class=\"data row3 col7\" >-0.09</td>\n",
       "      <td id=\"T_38d6e_row3_col8\" class=\"data row3 col8\" >-0.13</td>\n",
       "      <td id=\"T_38d6e_row3_col9\" class=\"data row3 col9\" >0.07</td>\n",
       "      <td id=\"T_38d6e_row3_col10\" class=\"data row3 col10\" >-0.04</td>\n",
       "      <td id=\"T_38d6e_row3_col11\" class=\"data row3 col11\" >0.05</td>\n",
       "      <td id=\"T_38d6e_row3_col12\" class=\"data row3 col12\" >-0.00</td>\n",
       "      <td id=\"T_38d6e_row3_col13\" class=\"data row3 col13\" >-0.01</td>\n",
       "      <td id=\"T_38d6e_row3_col14\" class=\"data row3 col14\" >0.02</td>\n",
       "      <td id=\"T_38d6e_row3_col15\" class=\"data row3 col15\" >-0.00</td>\n",
       "      <td id=\"T_38d6e_row3_col16\" class=\"data row3 col16\" >0.09</td>\n",
       "    </tr>\n",
       "    <tr>\n",
       "      <th id=\"T_38d6e_level0_row4\" class=\"row_heading level0 row4\" >num_of_product_pages</th>\n",
       "      <td id=\"T_38d6e_row4_col0\" class=\"data row4 col0\" >0.38</td>\n",
       "      <td id=\"T_38d6e_row4_col1\" class=\"data row4 col1\" >0.26</td>\n",
       "      <td id=\"T_38d6e_row4_col2\" class=\"data row4 col2\" >0.29</td>\n",
       "      <td id=\"T_38d6e_row4_col3\" class=\"data row4 col3\" >0.23</td>\n",
       "      <td id=\"T_38d6e_row4_col4\" class=\"data row4 col4\" >1.00</td>\n",
       "      <td id=\"T_38d6e_row4_col5\" class=\"data row4 col5\" >0.23</td>\n",
       "      <td id=\"T_38d6e_row4_col6\" class=\"data row4 col6\" >0.82</td>\n",
       "      <td id=\"T_38d6e_row4_col7\" class=\"data row4 col7\" >-0.25</td>\n",
       "      <td id=\"T_38d6e_row4_col8\" class=\"data row4 col8\" >-0.35</td>\n",
       "      <td id=\"T_38d6e_row4_col9\" class=\"data row4 col9\" >0.11</td>\n",
       "      <td id=\"T_38d6e_row4_col10\" class=\"data row4 col10\" >-0.01</td>\n",
       "      <td id=\"T_38d6e_row4_col11\" class=\"data row4 col11\" >0.17</td>\n",
       "      <td id=\"T_38d6e_row4_col12\" class=\"data row4 col12\" >0.01</td>\n",
       "      <td id=\"T_38d6e_row4_col13\" class=\"data row4 col13\" >-0.03</td>\n",
       "      <td id=\"T_38d6e_row4_col14\" class=\"data row4 col14\" >0.02</td>\n",
       "      <td id=\"T_38d6e_row4_col15\" class=\"data row4 col15\" >-0.00</td>\n",
       "      <td id=\"T_38d6e_row4_col16\" class=\"data row4 col16\" >0.17</td>\n",
       "    </tr>\n",
       "    <tr>\n",
       "      <th id=\"T_38d6e_level0_row5\" class=\"row_heading level0 row5\" >product_page_duration</th>\n",
       "      <td id=\"T_38d6e_row5_col0\" class=\"data row5 col0\" >0.26</td>\n",
       "      <td id=\"T_38d6e_row5_col1\" class=\"data row5 col1\" >0.20</td>\n",
       "      <td id=\"T_38d6e_row5_col2\" class=\"data row5 col2\" >0.68</td>\n",
       "      <td id=\"T_38d6e_row5_col3\" class=\"data row5 col3\" >1.00</td>\n",
       "      <td id=\"T_38d6e_row5_col4\" class=\"data row5 col4\" >0.23</td>\n",
       "      <td id=\"T_38d6e_row5_col5\" class=\"data row5 col5\" >1.00</td>\n",
       "      <td id=\"T_38d6e_row5_col6\" class=\"data row5 col6\" >0.27</td>\n",
       "      <td id=\"T_38d6e_row5_col7\" class=\"data row5 col7\" >-0.09</td>\n",
       "      <td id=\"T_38d6e_row5_col8\" class=\"data row5 col8\" >-0.13</td>\n",
       "      <td id=\"T_38d6e_row5_col9\" class=\"data row5 col9\" >0.07</td>\n",
       "      <td id=\"T_38d6e_row5_col10\" class=\"data row5 col10\" >-0.04</td>\n",
       "      <td id=\"T_38d6e_row5_col11\" class=\"data row5 col11\" >0.05</td>\n",
       "      <td id=\"T_38d6e_row5_col12\" class=\"data row5 col12\" >-0.00</td>\n",
       "      <td id=\"T_38d6e_row5_col13\" class=\"data row5 col13\" >-0.01</td>\n",
       "      <td id=\"T_38d6e_row5_col14\" class=\"data row5 col14\" >0.02</td>\n",
       "      <td id=\"T_38d6e_row5_col15\" class=\"data row5 col15\" >-0.00</td>\n",
       "      <td id=\"T_38d6e_row5_col16\" class=\"data row5 col16\" >0.09</td>\n",
       "    </tr>\n",
       "    <tr>\n",
       "      <th id=\"T_38d6e_level0_row6\" class=\"row_heading level0 row6\" >total_duration</th>\n",
       "      <td id=\"T_38d6e_row6_col0\" class=\"data row6 col0\" >0.37</td>\n",
       "      <td id=\"T_38d6e_row6_col1\" class=\"data row6 col1\" >0.33</td>\n",
       "      <td id=\"T_38d6e_row6_col2\" class=\"data row6 col2\" >0.32</td>\n",
       "      <td id=\"T_38d6e_row6_col3\" class=\"data row6 col3\" >0.27</td>\n",
       "      <td id=\"T_38d6e_row6_col4\" class=\"data row6 col4\" >0.82</td>\n",
       "      <td id=\"T_38d6e_row6_col5\" class=\"data row6 col5\" >0.27</td>\n",
       "      <td id=\"T_38d6e_row6_col6\" class=\"data row6 col6\" >1.00</td>\n",
       "      <td id=\"T_38d6e_row6_col7\" class=\"data row6 col7\" >-0.24</td>\n",
       "      <td id=\"T_38d6e_row6_col8\" class=\"data row6 col8\" >-0.33</td>\n",
       "      <td id=\"T_38d6e_row6_col9\" class=\"data row6 col9\" >0.12</td>\n",
       "      <td id=\"T_38d6e_row6_col10\" class=\"data row6 col10\" >-0.04</td>\n",
       "      <td id=\"T_38d6e_row6_col11\" class=\"data row6 col11\" >0.16</td>\n",
       "      <td id=\"T_38d6e_row6_col12\" class=\"data row6 col12\" >0.01</td>\n",
       "      <td id=\"T_38d6e_row6_col13\" class=\"data row6 col13\" >-0.01</td>\n",
       "      <td id=\"T_38d6e_row6_col14\" class=\"data row6 col14\" >-0.00</td>\n",
       "      <td id=\"T_38d6e_row6_col15\" class=\"data row6 col15\" >-0.00</td>\n",
       "      <td id=\"T_38d6e_row6_col16\" class=\"data row6 col16\" >0.18</td>\n",
       "    </tr>\n",
       "    <tr>\n",
       "      <th id=\"T_38d6e_level0_row7\" class=\"row_heading level0 row7\" >BounceRates</th>\n",
       "      <td id=\"T_38d6e_row7_col0\" class=\"data row7 col0\" >-0.23</td>\n",
       "      <td id=\"T_38d6e_row7_col1\" class=\"data row7 col1\" >-0.17</td>\n",
       "      <td id=\"T_38d6e_row7_col2\" class=\"data row7 col2\" >-0.12</td>\n",
       "      <td id=\"T_38d6e_row7_col3\" class=\"data row7 col3\" >-0.09</td>\n",
       "      <td id=\"T_38d6e_row7_col4\" class=\"data row7 col4\" >-0.25</td>\n",
       "      <td id=\"T_38d6e_row7_col5\" class=\"data row7 col5\" >-0.09</td>\n",
       "      <td id=\"T_38d6e_row7_col6\" class=\"data row7 col6\" >-0.24</td>\n",
       "      <td id=\"T_38d6e_row7_col7\" class=\"data row7 col7\" >1.00</td>\n",
       "      <td id=\"T_38d6e_row7_col8\" class=\"data row7 col8\" >0.91</td>\n",
       "      <td id=\"T_38d6e_row7_col9\" class=\"data row7 col9\" >-0.13</td>\n",
       "      <td id=\"T_38d6e_row7_col10\" class=\"data row7 col10\" >0.08</td>\n",
       "      <td id=\"T_38d6e_row7_col11\" class=\"data row7 col11\" >-0.07</td>\n",
       "      <td id=\"T_38d6e_row7_col12\" class=\"data row7 col12\" >0.02</td>\n",
       "      <td id=\"T_38d6e_row7_col13\" class=\"data row7 col13\" >-0.01</td>\n",
       "      <td id=\"T_38d6e_row7_col14\" class=\"data row7 col14\" >-0.04</td>\n",
       "      <td id=\"T_38d6e_row7_col15\" class=\"data row7 col15\" >0.01</td>\n",
       "      <td id=\"T_38d6e_row7_col16\" class=\"data row7 col16\" >-0.14</td>\n",
       "    </tr>\n",
       "    <tr>\n",
       "      <th id=\"T_38d6e_level0_row8\" class=\"row_heading level0 row8\" >ExitRates</th>\n",
       "      <td id=\"T_38d6e_row8_col0\" class=\"data row8 col0\" >-0.32</td>\n",
       "      <td id=\"T_38d6e_row8_col1\" class=\"data row8 col1\" >-0.25</td>\n",
       "      <td id=\"T_38d6e_row8_col2\" class=\"data row8 col2\" >-0.17</td>\n",
       "      <td id=\"T_38d6e_row8_col3\" class=\"data row8 col3\" >-0.13</td>\n",
       "      <td id=\"T_38d6e_row8_col4\" class=\"data row8 col4\" >-0.35</td>\n",
       "      <td id=\"T_38d6e_row8_col5\" class=\"data row8 col5\" >-0.13</td>\n",
       "      <td id=\"T_38d6e_row8_col6\" class=\"data row8 col6\" >-0.33</td>\n",
       "      <td id=\"T_38d6e_row8_col7\" class=\"data row8 col7\" >0.91</td>\n",
       "      <td id=\"T_38d6e_row8_col8\" class=\"data row8 col8\" >1.00</td>\n",
       "      <td id=\"T_38d6e_row8_col9\" class=\"data row8 col9\" >-0.19</td>\n",
       "      <td id=\"T_38d6e_row8_col10\" class=\"data row8 col10\" >0.10</td>\n",
       "      <td id=\"T_38d6e_row8_col11\" class=\"data row8 col11\" >-0.10</td>\n",
       "      <td id=\"T_38d6e_row8_col12\" class=\"data row8 col12\" >0.01</td>\n",
       "      <td id=\"T_38d6e_row8_col13\" class=\"data row8 col13\" >-0.01</td>\n",
       "      <td id=\"T_38d6e_row8_col14\" class=\"data row8 col14\" >-0.06</td>\n",
       "      <td id=\"T_38d6e_row8_col15\" class=\"data row8 col15\" >0.01</td>\n",
       "      <td id=\"T_38d6e_row8_col16\" class=\"data row8 col16\" >-0.20</td>\n",
       "    </tr>\n",
       "    <tr>\n",
       "      <th id=\"T_38d6e_level0_row9\" class=\"row_heading level0 row9\" >PageValues</th>\n",
       "      <td id=\"T_38d6e_row9_col0\" class=\"data row9 col0\" >0.15</td>\n",
       "      <td id=\"T_38d6e_row9_col1\" class=\"data row9 col1\" >0.12</td>\n",
       "      <td id=\"T_38d6e_row9_col2\" class=\"data row9 col2\" >0.08</td>\n",
       "      <td id=\"T_38d6e_row9_col3\" class=\"data row9 col3\" >0.07</td>\n",
       "      <td id=\"T_38d6e_row9_col4\" class=\"data row9 col4\" >0.11</td>\n",
       "      <td id=\"T_38d6e_row9_col5\" class=\"data row9 col5\" >0.07</td>\n",
       "      <td id=\"T_38d6e_row9_col6\" class=\"data row9 col6\" >0.12</td>\n",
       "      <td id=\"T_38d6e_row9_col7\" class=\"data row9 col7\" >-0.13</td>\n",
       "      <td id=\"T_38d6e_row9_col8\" class=\"data row9 col8\" >-0.19</td>\n",
       "      <td id=\"T_38d6e_row9_col9\" class=\"data row9 col9\" >1.00</td>\n",
       "      <td id=\"T_38d6e_row9_col10\" class=\"data row9 col10\" >-0.06</td>\n",
       "      <td id=\"T_38d6e_row9_col11\" class=\"data row9 col11\" >0.04</td>\n",
       "      <td id=\"T_38d6e_row9_col12\" class=\"data row9 col12\" >-0.02</td>\n",
       "      <td id=\"T_38d6e_row9_col13\" class=\"data row9 col13\" >-0.01</td>\n",
       "      <td id=\"T_38d6e_row9_col14\" class=\"data row9 col14\" >-0.00</td>\n",
       "      <td id=\"T_38d6e_row9_col15\" class=\"data row9 col15\" >-0.01</td>\n",
       "      <td id=\"T_38d6e_row9_col16\" class=\"data row9 col16\" >0.55</td>\n",
       "    </tr>\n",
       "    <tr>\n",
       "      <th id=\"T_38d6e_level0_row10\" class=\"row_heading level0 row10\" >closeness_to_holiday</th>\n",
       "      <td id=\"T_38d6e_row10_col0\" class=\"data row10 col0\" >-0.10</td>\n",
       "      <td id=\"T_38d6e_row10_col1\" class=\"data row10 col1\" >-0.08</td>\n",
       "      <td id=\"T_38d6e_row10_col2\" class=\"data row10 col2\" >-0.05</td>\n",
       "      <td id=\"T_38d6e_row10_col3\" class=\"data row10 col3\" >-0.04</td>\n",
       "      <td id=\"T_38d6e_row10_col4\" class=\"data row10 col4\" >-0.01</td>\n",
       "      <td id=\"T_38d6e_row10_col5\" class=\"data row10 col5\" >-0.04</td>\n",
       "      <td id=\"T_38d6e_row10_col6\" class=\"data row10 col6\" >-0.04</td>\n",
       "      <td id=\"T_38d6e_row10_col7\" class=\"data row10 col7\" >0.08</td>\n",
       "      <td id=\"T_38d6e_row10_col8\" class=\"data row10 col8\" >0.10</td>\n",
       "      <td id=\"T_38d6e_row10_col9\" class=\"data row10 col9\" >-0.06</td>\n",
       "      <td id=\"T_38d6e_row10_col10\" class=\"data row10 col10\" >1.00</td>\n",
       "      <td id=\"T_38d6e_row10_col11\" class=\"data row10 col11\" >-0.22</td>\n",
       "      <td id=\"T_38d6e_row10_col12\" class=\"data row10 col12\" >0.03</td>\n",
       "      <td id=\"T_38d6e_row10_col13\" class=\"data row10 col13\" >-0.01</td>\n",
       "      <td id=\"T_38d6e_row10_col14\" class=\"data row10 col14\" >-0.02</td>\n",
       "      <td id=\"T_38d6e_row10_col15\" class=\"data row10 col15\" >-0.01</td>\n",
       "      <td id=\"T_38d6e_row10_col16\" class=\"data row10 col16\" >-0.07</td>\n",
       "    </tr>\n",
       "    <tr>\n",
       "      <th id=\"T_38d6e_level0_row11\" class=\"row_heading level0 row11\" >Month</th>\n",
       "      <td id=\"T_38d6e_row11_col0\" class=\"data row11 col0\" >0.11</td>\n",
       "      <td id=\"T_38d6e_row11_col1\" class=\"data row11 col1\" >0.08</td>\n",
       "      <td id=\"T_38d6e_row11_col2\" class=\"data row11 col2\" >0.06</td>\n",
       "      <td id=\"T_38d6e_row11_col3\" class=\"data row11 col3\" >0.05</td>\n",
       "      <td id=\"T_38d6e_row11_col4\" class=\"data row11 col4\" >0.17</td>\n",
       "      <td id=\"T_38d6e_row11_col5\" class=\"data row11 col5\" >0.05</td>\n",
       "      <td id=\"T_38d6e_row11_col6\" class=\"data row11 col6\" >0.16</td>\n",
       "      <td id=\"T_38d6e_row11_col7\" class=\"data row11 col7\" >-0.07</td>\n",
       "      <td id=\"T_38d6e_row11_col8\" class=\"data row11 col8\" >-0.10</td>\n",
       "      <td id=\"T_38d6e_row11_col9\" class=\"data row11 col9\" >0.04</td>\n",
       "      <td id=\"T_38d6e_row11_col10\" class=\"data row11 col10\" >-0.22</td>\n",
       "      <td id=\"T_38d6e_row11_col11\" class=\"data row11 col11\" >1.00</td>\n",
       "      <td id=\"T_38d6e_row11_col12\" class=\"data row11 col12\" >-0.02</td>\n",
       "      <td id=\"T_38d6e_row11_col13\" class=\"data row11 col13\" >-0.00</td>\n",
       "      <td id=\"T_38d6e_row11_col14\" class=\"data row11 col14\" >0.04</td>\n",
       "      <td id=\"T_38d6e_row11_col15\" class=\"data row11 col15\" >-0.01</td>\n",
       "      <td id=\"T_38d6e_row11_col16\" class=\"data row11 col16\" >0.15</td>\n",
       "    </tr>\n",
       "    <tr>\n",
       "      <th id=\"T_38d6e_level0_row12\" class=\"row_heading level0 row12\" >device</th>\n",
       "      <td id=\"T_38d6e_row12_col0\" class=\"data row12 col0\" >-0.01</td>\n",
       "      <td id=\"T_38d6e_row12_col1\" class=\"data row12 col1\" >-0.01</td>\n",
       "      <td id=\"T_38d6e_row12_col2\" class=\"data row12 col2\" >-0.00</td>\n",
       "      <td id=\"T_38d6e_row12_col3\" class=\"data row12 col3\" >-0.00</td>\n",
       "      <td id=\"T_38d6e_row12_col4\" class=\"data row12 col4\" >0.01</td>\n",
       "      <td id=\"T_38d6e_row12_col5\" class=\"data row12 col5\" >-0.00</td>\n",
       "      <td id=\"T_38d6e_row12_col6\" class=\"data row12 col6\" >0.01</td>\n",
       "      <td id=\"T_38d6e_row12_col7\" class=\"data row12 col7\" >0.02</td>\n",
       "      <td id=\"T_38d6e_row12_col8\" class=\"data row12 col8\" >0.01</td>\n",
       "      <td id=\"T_38d6e_row12_col9\" class=\"data row12 col9\" >-0.02</td>\n",
       "      <td id=\"T_38d6e_row12_col10\" class=\"data row12 col10\" >0.03</td>\n",
       "      <td id=\"T_38d6e_row12_col11\" class=\"data row12 col11\" >-0.02</td>\n",
       "      <td id=\"T_38d6e_row12_col12\" class=\"data row12 col12\" >1.00</td>\n",
       "      <td id=\"T_38d6e_row12_col13\" class=\"data row12 col13\" >0.03</td>\n",
       "      <td id=\"T_38d6e_row12_col14\" class=\"data row12 col14\" >0.00</td>\n",
       "      <td id=\"T_38d6e_row12_col15\" class=\"data row12 col15\" >0.00</td>\n",
       "      <td id=\"T_38d6e_row12_col16\" class=\"data row12 col16\" >-0.03</td>\n",
       "    </tr>\n",
       "    <tr>\n",
       "      <th id=\"T_38d6e_level0_row13\" class=\"row_heading level0 row13\" >Region</th>\n",
       "      <td id=\"T_38d6e_row13_col0\" class=\"data row13 col0\" >0.01</td>\n",
       "      <td id=\"T_38d6e_row13_col1\" class=\"data row13 col1\" >0.03</td>\n",
       "      <td id=\"T_38d6e_row13_col2\" class=\"data row13 col2\" >-0.02</td>\n",
       "      <td id=\"T_38d6e_row13_col3\" class=\"data row13 col3\" >-0.01</td>\n",
       "      <td id=\"T_38d6e_row13_col4\" class=\"data row13 col4\" >-0.03</td>\n",
       "      <td id=\"T_38d6e_row13_col5\" class=\"data row13 col5\" >-0.01</td>\n",
       "      <td id=\"T_38d6e_row13_col6\" class=\"data row13 col6\" >-0.01</td>\n",
       "      <td id=\"T_38d6e_row13_col7\" class=\"data row13 col7\" >-0.01</td>\n",
       "      <td id=\"T_38d6e_row13_col8\" class=\"data row13 col8\" >-0.01</td>\n",
       "      <td id=\"T_38d6e_row13_col9\" class=\"data row13 col9\" >-0.01</td>\n",
       "      <td id=\"T_38d6e_row13_col10\" class=\"data row13 col10\" >-0.01</td>\n",
       "      <td id=\"T_38d6e_row13_col11\" class=\"data row13 col11\" >-0.00</td>\n",
       "      <td id=\"T_38d6e_row13_col12\" class=\"data row13 col12\" >0.03</td>\n",
       "      <td id=\"T_38d6e_row13_col13\" class=\"data row13 col13\" >1.00</td>\n",
       "      <td id=\"T_38d6e_row13_col14\" class=\"data row13 col14\" >0.00</td>\n",
       "      <td id=\"T_38d6e_row13_col15\" class=\"data row13 col15\" >0.00</td>\n",
       "      <td id=\"T_38d6e_row13_col16\" class=\"data row13 col16\" >-0.01</td>\n",
       "    </tr>\n",
       "    <tr>\n",
       "      <th id=\"T_38d6e_level0_row14\" class=\"row_heading level0 row14\" >Weekend</th>\n",
       "      <td id=\"T_38d6e_row14_col0\" class=\"data row14 col0\" >0.02</td>\n",
       "      <td id=\"T_38d6e_row14_col1\" class=\"data row14 col1\" >0.02</td>\n",
       "      <td id=\"T_38d6e_row14_col2\" class=\"data row14 col2\" >0.03</td>\n",
       "      <td id=\"T_38d6e_row14_col3\" class=\"data row14 col3\" >0.02</td>\n",
       "      <td id=\"T_38d6e_row14_col4\" class=\"data row14 col4\" >0.02</td>\n",
       "      <td id=\"T_38d6e_row14_col5\" class=\"data row14 col5\" >0.02</td>\n",
       "      <td id=\"T_38d6e_row14_col6\" class=\"data row14 col6\" >-0.00</td>\n",
       "      <td id=\"T_38d6e_row14_col7\" class=\"data row14 col7\" >-0.04</td>\n",
       "      <td id=\"T_38d6e_row14_col8\" class=\"data row14 col8\" >-0.06</td>\n",
       "      <td id=\"T_38d6e_row14_col9\" class=\"data row14 col9\" >-0.00</td>\n",
       "      <td id=\"T_38d6e_row14_col10\" class=\"data row14 col10\" >-0.02</td>\n",
       "      <td id=\"T_38d6e_row14_col11\" class=\"data row14 col11\" >0.04</td>\n",
       "      <td id=\"T_38d6e_row14_col12\" class=\"data row14 col12\" >0.00</td>\n",
       "      <td id=\"T_38d6e_row14_col13\" class=\"data row14 col13\" >0.00</td>\n",
       "      <td id=\"T_38d6e_row14_col14\" class=\"data row14 col14\" >1.00</td>\n",
       "      <td id=\"T_38d6e_row14_col15\" class=\"data row14 col15\" >0.01</td>\n",
       "      <td id=\"T_38d6e_row14_col16\" class=\"data row14 col16\" >0.03</td>\n",
       "    </tr>\n",
       "    <tr>\n",
       "      <th id=\"T_38d6e_level0_row15\" class=\"row_heading level0 row15\" >B</th>\n",
       "      <td id=\"T_38d6e_row15_col0\" class=\"data row15 col0\" >-0.01</td>\n",
       "      <td id=\"T_38d6e_row15_col1\" class=\"data row15 col1\" >-0.01</td>\n",
       "      <td id=\"T_38d6e_row15_col2\" class=\"data row15 col2\" >-0.01</td>\n",
       "      <td id=\"T_38d6e_row15_col3\" class=\"data row15 col3\" >-0.00</td>\n",
       "      <td id=\"T_38d6e_row15_col4\" class=\"data row15 col4\" >-0.00</td>\n",
       "      <td id=\"T_38d6e_row15_col5\" class=\"data row15 col5\" >-0.00</td>\n",
       "      <td id=\"T_38d6e_row15_col6\" class=\"data row15 col6\" >-0.00</td>\n",
       "      <td id=\"T_38d6e_row15_col7\" class=\"data row15 col7\" >0.01</td>\n",
       "      <td id=\"T_38d6e_row15_col8\" class=\"data row15 col8\" >0.01</td>\n",
       "      <td id=\"T_38d6e_row15_col9\" class=\"data row15 col9\" >-0.01</td>\n",
       "      <td id=\"T_38d6e_row15_col10\" class=\"data row15 col10\" >-0.01</td>\n",
       "      <td id=\"T_38d6e_row15_col11\" class=\"data row15 col11\" >-0.01</td>\n",
       "      <td id=\"T_38d6e_row15_col12\" class=\"data row15 col12\" >0.00</td>\n",
       "      <td id=\"T_38d6e_row15_col13\" class=\"data row15 col13\" >0.00</td>\n",
       "      <td id=\"T_38d6e_row15_col14\" class=\"data row15 col14\" >0.01</td>\n",
       "      <td id=\"T_38d6e_row15_col15\" class=\"data row15 col15\" >1.00</td>\n",
       "      <td id=\"T_38d6e_row15_col16\" class=\"data row15 col16\" >-0.00</td>\n",
       "    </tr>\n",
       "    <tr>\n",
       "      <th id=\"T_38d6e_level0_row16\" class=\"row_heading level0 row16\" >purchase</th>\n",
       "      <td id=\"T_38d6e_row16_col0\" class=\"data row16 col0\" >0.14</td>\n",
       "      <td id=\"T_38d6e_row16_col1\" class=\"data row16 col1\" >0.12</td>\n",
       "      <td id=\"T_38d6e_row16_col2\" class=\"data row16 col2\" >0.09</td>\n",
       "      <td id=\"T_38d6e_row16_col3\" class=\"data row16 col3\" >0.09</td>\n",
       "      <td id=\"T_38d6e_row16_col4\" class=\"data row16 col4\" >0.17</td>\n",
       "      <td id=\"T_38d6e_row16_col5\" class=\"data row16 col5\" >0.09</td>\n",
       "      <td id=\"T_38d6e_row16_col6\" class=\"data row16 col6\" >0.18</td>\n",
       "      <td id=\"T_38d6e_row16_col7\" class=\"data row16 col7\" >-0.14</td>\n",
       "      <td id=\"T_38d6e_row16_col8\" class=\"data row16 col8\" >-0.20</td>\n",
       "      <td id=\"T_38d6e_row16_col9\" class=\"data row16 col9\" >0.55</td>\n",
       "      <td id=\"T_38d6e_row16_col10\" class=\"data row16 col10\" >-0.07</td>\n",
       "      <td id=\"T_38d6e_row16_col11\" class=\"data row16 col11\" >0.15</td>\n",
       "      <td id=\"T_38d6e_row16_col12\" class=\"data row16 col12\" >-0.03</td>\n",
       "      <td id=\"T_38d6e_row16_col13\" class=\"data row16 col13\" >-0.01</td>\n",
       "      <td id=\"T_38d6e_row16_col14\" class=\"data row16 col14\" >0.03</td>\n",
       "      <td id=\"T_38d6e_row16_col15\" class=\"data row16 col15\" >-0.00</td>\n",
       "      <td id=\"T_38d6e_row16_col16\" class=\"data row16 col16\" >1.00</td>\n",
       "    </tr>\n",
       "  </tbody>\n",
       "</table>\n"
      ],
      "text/plain": [
       "<pandas.io.formats.style.Styler at 0x1a5e9075e50>"
      ]
     },
     "execution_count": 23,
     "metadata": {},
     "output_type": "execute_result"
    }
   ],
   "source": [
    "corr = data.corr()\n",
    "corr.style.background_gradient(cmap='YlOrRd').set_precision(2)\n"
   ]
  },
  {
   "cell_type": "markdown",
   "metadata": {},
   "source": [
    "Few insights from the corr table: \n",
    "1. Exit rates and bounce rates have almost perfect correlation (0.91!) - we will remove bounce rates and will remain with exit rates\n",
    "2. As we have seen before total_duration NaN values are 4605, almost 50% of the data! in addition the correlation of the value to num of of product pages is 82% which is high. We will remove total_duration as well. \n",
    "3. We can see that page value may be a good predictor to purchase.. we'll keep an eye on this one. \n",
    "\n",
    "In addition, we still have some categorial variables - we will turn them into dummies.\n"
   ]
  },
  {
   "cell_type": "code",
   "execution_count": 24,
   "metadata": {},
   "outputs": [],
   "source": [
    "def dummies(data):\n",
    "    data.drop('total_duration', inplace=True, axis=1)\n",
    "    data.drop('BounceRates', inplace=True, axis=1)\n",
    "    \n",
    "    data.loc[data[\"user_type\"] == \"Returning_Visitor\", \"user_type\"] = 0\n",
    "    data.loc[data[\"user_type\"] == \"Other\", \"user_type\"] = 0\n",
    "    data.loc[data[\"user_type\"] == \"New_Visitor\", \"user_type\"] = 1\n",
    "\n",
    "    data = pd.get_dummies(data, prefix=['A'], columns=['A'])\n",
    "    data = pd.get_dummies(data, prefix=['device'], columns=['device'])\n",
    "    data = pd.get_dummies(data, prefix=['Region'], columns=['Region'])\n",
    "    \n",
    "    return data\n",
    "    \n",
    "data = dummies(data)"
   ]
  },
  {
   "cell_type": "markdown",
   "metadata": {},
   "source": [
    "## Normalization"
   ]
  },
  {
   "cell_type": "markdown",
   "metadata": {},
   "source": [
    "Right before we start selecting our features and building our models, we would like to normalize our entire data. <br> Normalizing the data is important so that we can have the same scale for all our features without distorting differences in the ranges of values or losing information. <br> In addition, we will make sure that all of our features are a numeric type."
   ]
  },
  {
   "cell_type": "code",
   "execution_count": 25,
   "metadata": {},
   "outputs": [],
   "source": [
    "def normalize(data):    \n",
    "    data = (data - data.min())/(data.max() - data.min())\n",
    "    data = data.astype(float)\n",
    "    return data\n",
    "data = normalize(data)"
   ]
  },
  {
   "cell_type": "markdown",
   "metadata": {},
   "source": [
    "## 2. Feature selection - finally we can start working"
   ]
  },
  {
   "cell_type": "code",
   "execution_count": 26,
   "metadata": {},
   "outputs": [
    {
     "name": "stdout",
     "output_type": "stream",
     "text": [
      "Number of features before feature selection:  31\n"
     ]
    }
   ],
   "source": [
    "print('Number of features before feature selection: ',data.shape[1])"
   ]
  },
  {
   "cell_type": "markdown",
   "metadata": {},
   "source": [
    "We can see that we have a big dimensionality at the moment. Big problem dimensionality may lead to overfitting and long running times. In addition it drops the reduntant and irrelevant features and leaves us with most important features for the prediction. "
   ]
  },
  {
   "cell_type": "code",
   "execution_count": 27,
   "metadata": {},
   "outputs": [],
   "source": [
    "ordered_cols = [x for x in data.columns if x not in['purchase']] + ['purchase']\n",
    "data = data[ordered_cols]"
   ]
  },
  {
   "cell_type": "markdown",
   "metadata": {},
   "source": [
    "We will use fw feature selection algorythm:"
   ]
  },
  {
   "cell_type": "code",
   "execution_count": 28,
   "metadata": {},
   "outputs": [],
   "source": [
    "def get_sigma_hat_squared(X: np.array, y: np.array) -> float:\n",
    "   \n",
    "    lm = LinearRegression()\n",
    "    lm.fit(X,y)\n",
    "    n = X.shape[0]\n",
    "    d = X.shape[1]\n",
    "    mse = mean_squared_error(y,lm.predict(X))\n",
    "    RSS = mse*n\n",
    "    return RSS/(n-d-1)\n",
    "\n",
    "def get_mallows_cp_score(X: np.array ,y: np.array, sigma_hat_squared: float) -> float:\n",
    "\n",
    "    lm = LinearRegression()\n",
    "    lm.fit(X,y)\n",
    "    n = X.shape[0]\n",
    "    d = X.shape[1]\n",
    "    mse = mean_squared_error(y,lm.predict(X))\n",
    "    return (mse + (2*sigma_hat_squared*(d+1))/n) \n",
    "\n",
    "def add_feature(X: np.array ,y: np.array ,current_features: List[int] , sigma_hat_squared: float) -> Dict:\n",
    "\n",
    "    best_features_lst = None\n",
    "    best_score = None\n",
    "    curr_index = None\n",
    "    feature_dict = {}\n",
    "    \n",
    "    for f in range(X.shape[1]):\n",
    "        temp_lst = current_features[:]\n",
    "        if f not in temp_lst:\n",
    "            temp_lst.append(f)\n",
    "            cp = get_mallows_cp_score(X[:,temp_lst], y, sigma_hat_squared)\n",
    "            feature_dict[cp] = temp_lst\n",
    "            \n",
    "    best_score = min(feature_dict)\n",
    "    best_features_lst = feature_dict[best_score]\n",
    "    return {'features':sorted(best_features_lst),'score':best_score} \n",
    "\n",
    "def forward_selection(X: np.array, y: np.array) -> List[int]:\n",
    "\n",
    "    num_of_features = X.shape[1]\n",
    "    current_features = []\n",
    "    sigma_hat_squared = get_sigma_hat_squared(X, y)\n",
    "\n",
    "    models_lst = []\n",
    "    for i in range(num_of_features):\n",
    "        res = add_feature(X,y,current_features,sigma_hat_squared)\n",
    "        models_lst.append(res)\n",
    "        current_features = models_lst[-1]['features']\n",
    "        \n",
    "    #Plotting\n",
    "    scores_lst = [x['score'] for x in models_lst]\n",
    "    plt.plot(range(1,len(scores_lst)+1),scores_lst)\n",
    "    plt.xlabel(\"number of features\")\n",
    "    plt.ylabel(\"Mallows cp\")\n",
    "    plt.title(\"Mallows Cp score VS number of features\")\n",
    "    plt.show()\n",
    "\n",
    "    #Returning features of best model, based on mcp score\n",
    "    best_model = min(models_lst, key = lambda x: x['score'])\n",
    "    best_features = best_model['features']\n",
    "    return sorted(best_features) "
   ]
  },
  {
   "cell_type": "markdown",
   "metadata": {},
   "source": [
    "Running fw selection on the data:"
   ]
  },
  {
   "cell_type": "code",
   "execution_count": 29,
   "metadata": {},
   "outputs": [],
   "source": [
    "def get_features(df): \n",
    "\n",
    "    #Split data to X and y \n",
    "    X, y = df.values[:,:-1], df.values[:, -1]\n",
    "\n",
    "    #Running fw selection process \n",
    "    res = forward_selection(X,y)\n",
    "    print(f'number of selected features by forward: {len(res)}')\n",
    "    lst = []\n",
    "    for i in res:\n",
    "        lst.append(df.columns[i])\n",
    "    print('chosen features:\\n',lst)\n",
    "    return res "
   ]
  },
  {
   "cell_type": "markdown",
   "metadata": {},
   "source": [
    "We can see the list of the features selected by fw selection algorythm. The features are selected by the optimmal mallow cp score. \n",
    "The chosen features are the features we will move forward with. "
   ]
  },
  {
   "cell_type": "markdown",
   "metadata": {},
   "source": [
    "We will apply the selected features on the data:"
   ]
  },
  {
   "cell_type": "code",
   "execution_count": 30,
   "metadata": {},
   "outputs": [
    {
     "data": {
      "image/png": "[encoded data removed]",
      "text/plain": [
       "<Figure size 432x288 with 1 Axes>"
      ]
     },
     "metadata": {
      "needs_background": "light"
     },
     "output_type": "display_data"
    },
    {
     "name": "stdout",
     "output_type": "stream",
     "text": [
      "number of selected features by forward: 10\n",
      "chosen features:\n",
      " ['info_page_duration', 'num_of_product_pages', 'product_page_duration', 'ExitRates', 'PageValues', 'Month', 'user_type', 'Weekend', 'A_s', 'device_3.0']\n"
     ]
    }
   ],
   "source": [
    "    \n",
    "def apply_fw(data,res):\n",
    "    features = []\n",
    "    for i in res:\n",
    "        features.append(data.columns[i])\n",
    "\n",
    "    def fill_df(data):\n",
    "        df = []\n",
    "        for f in features:\n",
    "            df.append(data[f])\n",
    "        df = pd.DataFrame(data = df)\n",
    "        df = df.T\n",
    "        return df\n",
    "    df = fill_df(data)\n",
    "    return df\n",
    "\n",
    "res = get_features(data)  \n",
    "df = apply_fw(data, res)\n",
    "df['purchase'] = data['purchase']"
   ]
  },
  {
   "cell_type": "markdown",
   "metadata": {},
   "source": [
    "## 3. Modeling"
   ]
  },
  {
   "cell_type": "code",
   "execution_count": 31,
   "metadata": {},
   "outputs": [],
   "source": [
    "X_sfs, y_sfs = df.values[:,:-1], df.values[:, -1]"
   ]
  },
  {
   "cell_type": "code",
   "execution_count": 32,
   "metadata": {},
   "outputs": [],
   "source": [
    "##Model evaluation code - the output is ROC_AUC graph\n",
    "\n",
    "def model_evaluation(df, model):\n",
    "    X, y = df.values[:,:-1], df.values[:, -1]\n",
    "    #to store tests on validation set \n",
    "    tprs = []\n",
    "    aucs = []\n",
    "    mean_fpr = np.linspace(0,1,100)\n",
    "    i = 1\n",
    "\n",
    "    kf = KFold(n_splits=5, random_state=None, shuffle=True)\n",
    "    for train, validation in kf.split(X):\n",
    "        pred = model.fit(X[train],y[train]).predict_proba(X[validation])\n",
    "        fpr, tpr, threshold = roc_curve(y[validation], pred[:,1])\n",
    "        tprs.append(np.interp(mean_fpr, fpr, tpr))\n",
    "        aucs.append(auc(fpr, tpr))\n",
    "        plt.plot(fpr, tpr, lw=2, alpha=0.4, label='ROC fold %d (AUC = %0.4f)' % (i, auc(fpr, tpr)))\n",
    "        i+=1\n",
    "\n",
    "    # Ploting\n",
    "    plt.plot([0,1],[0,1],linestyle = '--',lw = 2,color = 'r')\n",
    "    mean_tpr = np.mean(tprs, axis=0)\n",
    "    mean_auc = auc(mean_fpr, mean_tpr)\n",
    "    plt.plot(mean_fpr, mean_tpr, color='b',label=r'Mean ROC (AUC = %0.2f )' % (mean_auc),lw=2)\n",
    "\n",
    "    plt.xlabel('False Positive Rate')\n",
    "    plt.ylabel('True Positive Rate')\n",
    "    plt.title('ROC')\n",
    "    plt.legend(loc=\"lower right\")\n",
    "    plt.show()"
   ]
  },
  {
   "cell_type": "markdown",
   "metadata": {},
   "source": [
    "For each model that we will run, we will make hyperparameter selection, present the chosen params and will present the ROC graph of the model 📈\n",
    "\n",
    "In order to make feature selection we will split the data into test and validation "
   ]
  },
  {
   "cell_type": "code",
   "execution_count": 33,
   "metadata": {},
   "outputs": [],
   "source": [
    "X_t, X_v, y_t, y_v = train_test_split(X_sfs, y_sfs, test_size = 0.2, random_state= 42, shuffle=True)"
   ]
  },
  {
   "cell_type": "markdown",
   "metadata": {},
   "source": [
    "Logistic regression model:"
   ]
  },
  {
   "cell_type": "code",
   "execution_count": 34,
   "metadata": {},
   "outputs": [
    {
     "name": "stdout",
     "output_type": "stream",
     "text": [
      "Best params are:  {'C': 0.01, 'penalty': 'l1', 'solver': 'saga'}\n"
     ]
    }
   ],
   "source": [
    "#Except from the hyperparameters we choose below, the rest are the default: \n",
    "# penalty = l2, dual=False, tol=0.0001, fit_intercept=True, intercept_scaling=1, class_weight=None, random_state=None, max_iter=100, multi_class='auto', verbose=0, warm_start=False, n_jobs=None, l1_ratio=None\n",
    "\n",
    "lr = LogisticRegression()\n",
    "solvers = ['newton-cg', 'lbfgs', 'sag', 'saga']\n",
    "c_values = [10, 1.0, 0.1, 0.01]\n",
    "penalty = ['l1', 'l2', 'elasticnet']\n",
    "grid = dict(solver=solvers,C=c_values, penalty=penalty)\n",
    "cv = RepeatedStratifiedKFold(n_splits=10, n_repeats=3, random_state=1)\n",
    "grid_search_LR = GridSearchCV(estimator=lr, param_grid=grid, n_jobs=-1, cv=cv, scoring='roc_auc',error_score=0)\n",
    "grid_search_LR.fit(X_t,y_t)\n",
    "print('Best params are: ',grid_search_LR.best_params_)"
   ]
  },
  {
   "cell_type": "markdown",
   "metadata": {},
   "source": [
    "We will use the best params found by the gridSearchCV for the LR model."
   ]
  },
  {
   "cell_type": "code",
   "execution_count": 35,
   "metadata": {},
   "outputs": [
    {
     "data": {
      "image/png": "[encoded data removed]",
      "text/plain": [
       "<Figure size 432x288 with 1 Axes>"
      ]
     },
     "metadata": {
      "needs_background": "light"
     },
     "output_type": "display_data"
    }
   ],
   "source": [
    "LR_model = LogisticRegression(C=10, penalty='l1', solver='saga')\n",
    "model_evaluation(df, LR_model)"
   ]
  },
  {
   "cell_type": "markdown",
   "metadata": {},
   "source": [
    "We can see that the logistic regression model accuracy is 89%! This is not a bad result 👌"
   ]
  },
  {
   "cell_type": "markdown",
   "metadata": {},
   "source": [
    "Now we'll run KNN model:"
   ]
  },
  {
   "cell_type": "code",
   "execution_count": 36,
   "metadata": {},
   "outputs": [
    {
     "name": "stdout",
     "output_type": "stream",
     "text": [
      "Best params are:  {'metric': 'euclidean', 'n_neighbors': 9, 'weights': 'uniform'}\n"
     ]
    }
   ],
   "source": [
    "#Except from the hyperparameters we choose below, the rest are the default: \n",
    "#algorithm='auto', leaf_size=30, p=2, metric_params=None, n_jobs=None)\n",
    "\n",
    "neigh_model = KNeighborsClassifier()\n",
    "n_neighbors = range(1, 10, 2)\n",
    "weights = ['uniform', 'distance']\n",
    "metric = ['euclidean', 'manhattan', 'minkowski']\n",
    "# define grid search\n",
    "grid = dict(n_neighbors=n_neighbors,weights=weights,metric=metric)\n",
    "cv = RepeatedStratifiedKFold(n_splits=10, n_repeats=3, random_state=1)\n",
    "grid_search_knn = GridSearchCV(estimator=neigh_model, param_grid=grid, n_jobs=-1, cv=cv, scoring='roc_auc',error_score=0)\n",
    "grid_search_knn.fit(X_t,y_t)\n",
    "print('Best params are: ',grid_search_knn.best_params_)\n"
   ]
  },
  {
   "cell_type": "markdown",
   "metadata": {},
   "source": [
    "We will use the best params found by the gridSearchCV for the KNN model."
   ]
  },
  {
   "cell_type": "code",
   "execution_count": 37,
   "metadata": {},
   "outputs": [
    {
     "data": {
      "image/png": "[encoded data removed]",
      "text/plain": [
       "<Figure size 432x288 with 1 Axes>"
      ]
     },
     "metadata": {
      "needs_background": "light"
     },
     "output_type": "display_data"
    }
   ],
   "source": [
    "KNN_model = KNeighborsClassifier(metric='manhattan', n_neighbors=9, weights='distance')\n",
    "model_evaluation(df, KNN_model)"
   ]
  },
  {
   "cell_type": "markdown",
   "metadata": {},
   "source": [
    "SVM model:"
   ]
  },
  {
   "cell_type": "code",
   "execution_count": 38,
   "metadata": {},
   "outputs": [
    {
     "name": "stdout",
     "output_type": "stream",
     "text": [
      "Best params are:  {'C': 1.0, 'gamma': 'auto', 'kernel': 'rbf'}\n"
     ]
    }
   ],
   "source": [
    "#Except from the hyperparameters we choose below, the rest are the default: \n",
    "#degree=3,coef0=0.0, shrinking=True, probability=False, tol=0.001, cache_size=200, \n",
    "#class_weight=None, verbose=False, max_iter=- 1, decision_function_shape='ovr', break_ties=False, random_state=None\n",
    "\n",
    "clf = svm.SVC(probability=True)\n",
    "kernel = ['poly', 'rbf', 'sigmoid']\n",
    "C = [10, 1.0, 0.1]\n",
    "gamma = ['scale', 'auto']\n",
    "# define grid search\n",
    "grid = dict(kernel=kernel ,gamma=gamma, C=C)\n",
    "cv = RepeatedStratifiedKFold(n_splits=10, n_repeats=3, random_state=1)\n",
    "grid_search_svm = GridSearchCV(estimator=clf, param_grid=grid, n_jobs=-1, cv=cv, scoring='roc_auc',error_score=0)\n",
    "grid_search_svm.fit(X_t, y_t)\n",
    "# summarize results\n",
    "print(\"Best params are: \", grid_search_svm.best_params_)"
   ]
  },
  {
   "cell_type": "markdown",
   "metadata": {},
   "source": [
    "We will use the best params found by the gridSearchCV for the SVM model."
   ]
  },
  {
   "cell_type": "code",
   "execution_count": 39,
   "metadata": {},
   "outputs": [
    {
     "data": {
      "image/png": "[encoded data removed]",
      "text/plain": [
       "<Figure size 432x288 with 1 Axes>"
      ]
     },
     "metadata": {
      "needs_background": "light"
     },
     "output_type": "display_data"
    }
   ],
   "source": [
    "svm_model = svm.SVC(kernel='rbf', C = 1, gamma='auto', probability=True)\n",
    "model_evaluation(df, svm_model)"
   ]
  },
  {
   "cell_type": "markdown",
   "metadata": {},
   "source": [
    "Random forest:"
   ]
  },
  {
   "cell_type": "code",
   "execution_count": 40,
   "metadata": {},
   "outputs": [
    {
     "name": "stdout",
     "output_type": "stream",
     "text": [
      "Best params are:  {'max_depth': 10, 'max_features': 'auto', 'min_samples_split': 10, 'n_estimators': 200}\n"
     ]
    }
   ],
   "source": [
    "#Except from the hyperparameters we choose below, the rest are the default: \n",
    "# criterion='gini', min_samples_leaf=1, min_weight_fraction_leaf=0.0,\n",
    "# max_leaf_nodes=None, min_impurity_decrease=0.0, bootstrap=True, oob_score=False,\n",
    "# n_jobs=None, random_state=None, verbose=0, warm_start=False, class_weight=None, ccp_alpha=0.0, max_samples=None\n",
    "\n",
    "n_estimators = [10, 50, 200]\n",
    "max_features = ['auto', 'sqrt']\n",
    "max_depth = [int(x) for x in np.linspace(10, 110, num = 3)]\n",
    "max_depth.append(None)\n",
    "min_samples_split = [2, 5, 10]\n",
    "# Create the random grid\n",
    "random_grid = {'n_estimators': n_estimators,\n",
    "               'max_features': max_features,\n",
    "               'max_depth': max_depth,\n",
    "               'min_samples_split': min_samples_split}\n",
    "\n",
    "rf = RandomForestClassifier(random_state=0)\n",
    "gscv_rf = GridSearchCV(rf, random_grid, scoring='roc_auc')\n",
    "gscv_rf.fit(X_t,y_t)\n",
    "print('Best params are: ',gscv_rf.best_params_)"
   ]
  },
  {
   "cell_type": "markdown",
   "metadata": {},
   "source": [
    "We will use the best params found by the gridSearchCV for the RF model."
   ]
  },
  {
   "cell_type": "code",
   "execution_count": 41,
   "metadata": {},
   "outputs": [
    {
     "data": {
      "image/png": "[encoded data removed]",
      "text/plain": [
       "<Figure size 432x288 with 1 Axes>"
      ]
     },
     "metadata": {
      "needs_background": "light"
     },
     "output_type": "display_data"
    }
   ],
   "source": [
    "\n",
    "RF_model = RandomForestClassifier(n_estimators =200, max_features='auto' , max_depth=10 , min_samples_split=2)\n",
    "model_evaluation(df, RF_model)"
   ]
  },
  {
   "cell_type": "markdown",
   "metadata": {},
   "source": [
    "We got the best AUC results from the RandomForestClassifier model, this is the model we will want to use for the predictions later on. From this reason we will make the overfit check on this model:"
   ]
  },
  {
   "cell_type": "code",
   "execution_count": 42,
   "metadata": {},
   "outputs": [
    {
     "data": {
      "image/png": "[encoded data removed]",
      "text/plain": [
       "<Figure size 432x288 with 1 Axes>"
      ]
     },
     "metadata": {
      "needs_background": "light"
     },
     "output_type": "display_data"
    }
   ],
   "source": [
    "def rf_evaluation(df, model):\n",
    "\n",
    "    X, y = df.values[:,:-1], df.values[:, -1]\n",
    "    tprs = []\n",
    "    aucs = []\n",
    "    mean_fpr = np.linspace(0,1,100)\n",
    "    j = 1\n",
    "    kf = KFold(n_splits=5, random_state=None, shuffle=True)\n",
    "\n",
    "    for train, validation in kf.split(X):\n",
    "        pred = model.fit(X[train],y[train]).predict_proba(X[train])\n",
    "        fpr, tpr, threshold = roc_curve(y[train], pred[:,1])\n",
    "        tprs.append(np.interp(mean_fpr, fpr, tpr))\n",
    "        aucs.append(auc(fpr, tpr))\n",
    "        plt.plot(fpr, tpr, lw=2, alpha=0.4, label='ROC fold %d (AUC = %0.4f)' % (j, auc(fpr, tpr)))\n",
    "        j+=1\n",
    "    \n",
    "    # Ploting the test ROC \n",
    "    plt.plot([0,1],[0,1],linestyle = '--',lw = 2,color = 'r')\n",
    "    mean_tpr = np.mean(tprs, axis=0)\n",
    "    mean_auc = auc(mean_fpr, mean_tpr)\n",
    "    plt.plot(mean_fpr, mean_tpr, color='b',label=r'Mean ROC (AUC = %0.2f )' % (mean_auc),lw=2)\n",
    "    plt.xlabel('False Positive Rate')\n",
    "    plt.ylabel('True Positive Rate')\n",
    "    plt.title('ROC train')\n",
    "    plt.legend(loc=\"lower right\")\n",
    "    plt.show()\n",
    "\n",
    "rf_evaluation(df, RF_model)"
   ]
  },
  {
   "cell_type": "markdown",
   "metadata": {},
   "source": [
    "## Overfitting\n",
    "<br>Previously we got AUC score of 92% on the validation data with random forest classifier model. When we ran the model on the train data we got an AUC score of 98%. When we try to figure if our model is overfit we compare between the model performance on train and validation data sets and see that if the gap is big (train performance higher than test) it is a good indicator about an overfit. <br>Due the fact we didn't get a big gap between the performances - only 6%, we do not believe our model is overfit. "
   ]
  },
  {
   "cell_type": "markdown",
   "metadata": {},
   "source": [
    "## Confusion Matrix"
   ]
  },
  {
   "cell_type": "markdown",
   "metadata": {},
   "source": [
    "Now we will demonstrate a confusion matrix on the best model that we got: the random forest. "
   ]
  },
  {
   "cell_type": "code",
   "execution_count": 43,
   "metadata": {},
   "outputs": [
    {
     "data": {
      "image/png": "[encoded data removed]",
      "text/plain": [
       "<Figure size 432x288 with 2 Axes>"
      ]
     },
     "metadata": {
      "needs_background": "light"
     },
     "output_type": "display_data"
    }
   ],
   "source": [
    "test_pred = RF_model.predict(X_v)\n",
    "test_rf_cm = confusion_matrix(y_v, test_pred)\n",
    "test_plot_mpl = sns.heatmap(test_rf_cm, annot=True, fmt='g', annot_kws={\"size\": 14},xticklabels = [0,1], yticklabels = [0,1], cmap='Greens_r')\n",
    "test_plot_mpl.set_title('Test Confusion Matrix\\n')\n",
    "plt.show()"
   ]
  },
  {
   "cell_type": "markdown",
   "metadata": {},
   "source": [
    "From the confusion matrix we ran on a validation dataset we have the following stats: \n",
    "<br>Accuracy = 0.94 - that means we are correct in 94% precents of the cases when we need to determine whether a costumer has purchased a product or not. \n",
    "<br>Precision = 0.74 - that means that in 74% of the cases we determined a costumer has purchased a product he actually did. \n",
    "<br>Sensitivity = 0.85 - that means that from the costumers who really purchased a product we predicted 85% correctly. \n",
    "<br>Specifity = 0.95 - that means that from the costumers who actually didn't buy the product we predicted 95% correctly. "
   ]
  },
  {
   "cell_type": "markdown",
   "metadata": {},
   "source": [
    "# Pipeline 🎉🎉"
   ]
  },
  {
   "cell_type": "markdown",
   "metadata": {},
   "source": [
    "### Applying the process on the train data"
   ]
  },
  {
   "cell_type": "markdown",
   "metadata": {},
   "source": [
    "We made built in functions so that we can apply the data processing efficiently in the pipeline"
   ]
  },
  {
   "cell_type": "markdown",
   "metadata": {},
   "source": [
    "Train data preprocessing:"
   ]
  },
  {
   "cell_type": "code",
   "execution_count": 44,
   "metadata": {},
   "outputs": [],
   "source": [
    "train = pd.read_csv(\"train.csv\")\n",
    "train = first_process(train)\n",
    "train = A_process(train)\n",
    "train = browser_process(train)\n",
    "train = remove_outliers(train)\n",
    "train = drop_process(train)\n",
    "\n",
    "##means and medians used for filling NA's\n",
    "B_mean = train['B'].mean()\n",
    "num_inf_pg = train['num_of_info_pages'].mean()\n",
    "inf_pg_dr = train['info_page_duration'].mean()\n",
    "num_pr_pg = train['num_of_product_pages'].mean()\n",
    "ex_rt = train['ExitRates'].mean()\n",
    "holiday = train['closeness_to_holiday'].median()\n",
    "device = train['device'].median()\n",
    "region = train['Region'].median()\n",
    "ad_pg = train['num_of_admin_pages'].median()\n",
    "ad_pg_dr = train['admin_page_duration'].median()\n",
    "pr_pg_dr = train['product_page_duration'].median()\n",
    "pg_val = train['PageValues'].median()\n",
    "## A by weights\n",
    "A_dict = {3:'w',13:'w', 15:'w', 1:'av', 4:'av', 6:'av', 9:'av', 11:'av', 2:'s', 5:'s', 7:'s', 8:'s', 10:'s', 20:'s'}\n",
    "train['A'] = train['A'].replace(A_dict)\n",
    "train['A'] = train['A'].fillna(0)\n",
    "\n",
    "train = fill_na(train)\n",
    "train = dummies(train)\n",
    "train = normalize(train)\n",
    "ordered_cols = [x for x in data.columns if x not in['purchase']] + ['purchase']\n",
    "train = train[ordered_cols]"
   ]
  },
  {
   "cell_type": "markdown",
   "metadata": {},
   "source": [
    "Applying forward feature selection:"
   ]
  },
  {
   "cell_type": "code",
   "execution_count": 45,
   "metadata": {},
   "outputs": [
    {
     "data": {
      "image/png": "[encoded data removed]",
      "text/plain": [
       "<Figure size 432x288 with 1 Axes>"
      ]
     },
     "metadata": {
      "needs_background": "light"
     },
     "output_type": "display_data"
    },
    {
     "name": "stdout",
     "output_type": "stream",
     "text": [
      "number of selected features by forward: 10\n",
      "chosen features:\n",
      " ['info_page_duration', 'num_of_product_pages', 'product_page_duration', 'ExitRates', 'PageValues', 'Month', 'user_type', 'Weekend', 'A_s', 'device_3.0']\n"
     ]
    }
   ],
   "source": [
    "selected_features = get_features(train)\n",
    "train_proc = apply_fw(train, selected_features)\n",
    "train_proc['purchase'] = train['purchase']"
   ]
  },
  {
   "cell_type": "markdown",
   "metadata": {},
   "source": [
    "Running the RandomForestClassifier model which is the model with the best performance we got:"
   ]
  },
  {
   "cell_type": "code",
   "execution_count": 46,
   "metadata": {},
   "outputs": [
    {
     "name": "stdout",
     "output_type": "stream",
     "text": [
      "Best params are:  {'max_depth': 10, 'max_features': 'auto', 'min_samples_split': 10, 'n_estimators': 50}\n"
     ]
    }
   ],
   "source": [
    "X, y = train_proc.values[:,:-1], train_proc.values[:, -1]\n",
    "X_train, X_valid, y_train, y_valid = train_test_split(X, y, test_size = 0.2, random_state= 42, shuffle=True)\n",
    "\n",
    "n_estimators = [10, 50, 200]\n",
    "max_features = ['auto', 'sqrt']\n",
    "max_depth = [int(x) for x in np.linspace(10, 110, num = 3)]\n",
    "max_depth.append(None)\n",
    "min_samples_split = [2, 5, 10]\n",
    "# Create the random grid\n",
    "random_grid = {'n_estimators': n_estimators,\n",
    "               'max_features': max_features,\n",
    "               'max_depth': max_depth,\n",
    "               'min_samples_split': min_samples_split}\n",
    "\n",
    "rf = RandomForestClassifier(random_state=0)\n",
    "gscv_rf = GridSearchCV(rf, random_grid, scoring='roc_auc')\n",
    "gscv_rf.fit(X_train,y_train)\n",
    "print('Best params are: ',gscv_rf.best_params_)"
   ]
  },
  {
   "cell_type": "markdown",
   "metadata": {},
   "source": [
    "Model training:"
   ]
  },
  {
   "cell_type": "code",
   "execution_count": 47,
   "metadata": {},
   "outputs": [
    {
     "name": "stdout",
     "output_type": "stream",
     "text": [
      "Best params are:  {'max_depth': 10, 'max_features': 'auto', 'min_samples_split': 10, 'n_estimators': 200}\n"
     ]
    }
   ],
   "source": [
    "#Except from the hyperparameters we choose below, the rest are the default: \n",
    "# criterion='gini', min_samples_leaf=1, min_weight_fraction_leaf=0.0,\n",
    "# max_leaf_nodes=None, min_impurity_decrease=0.0, bootstrap=True, oob_score=False,\n",
    "# n_jobs=None, random_state=None, verbose=0, warm_start=False, class_weight=None, ccp_alpha=0.0, max_samples=None\n",
    "\n",
    "n_estimators = [10, 50, 200]\n",
    "max_features = ['auto', 'sqrt']\n",
    "max_depth = [int(x) for x in np.linspace(10, 110, num = 3)]\n",
    "max_depth.append(None)\n",
    "min_samples_split = [2, 5, 10]\n",
    "# Create the random grid\n",
    "random_grid = {'n_estimators': n_estimators,\n",
    "               'max_features': max_features,\n",
    "               'max_depth': max_depth,\n",
    "               'min_samples_split': min_samples_split}\n",
    "\n",
    "rf = RandomForestClassifier(random_state=0)\n",
    "gscv_rf = GridSearchCV(rf, random_grid, scoring='roc_auc')\n",
    "gscv_rf.fit(X_t,y_t)\n",
    "print('Best params are: ',gscv_rf.best_params_)"
   ]
  },
  {
   "cell_type": "code",
   "execution_count": 48,
   "metadata": {},
   "outputs": [
    {
     "data": {
      "image/png": "[encoded data removed]",
      "text/plain": [
       "<Figure size 432x288 with 1 Axes>"
      ]
     },
     "metadata": {
      "needs_background": "light"
     },
     "output_type": "display_data"
    }
   ],
   "source": [
    "RF_model = RandomForestClassifier(n_estimators =200, max_features='auto' , max_depth=10 , min_samples_split=2)\n",
    "model_evaluation(train_proc, RF_model)"
   ]
  },
  {
   "cell_type": "markdown",
   "metadata": {},
   "source": [
    "### Finally, we can run our model on the test data "
   ]
  },
  {
   "cell_type": "markdown",
   "metadata": {},
   "source": [
    "Test data preprocessing: "
   ]
  },
  {
   "cell_type": "code",
   "execution_count": 49,
   "metadata": {},
   "outputs": [],
   "source": [
    "test = pd.read_csv(\"test.csv\")\n",
    "test = first_process(test)\n",
    "test = A_process(test)\n",
    "test = browser_process(test)\n",
    "test = drop_process(test)\n",
    "A_dict = {3:'w',13:'w', 15:'w', 1:'av', 4:'av', 6:'av', 9:'av', 11:'av', 2:'s', 5:'s', 7:'s', 8:'s', 10:'s', 20:'s'}\n",
    "test['A'] = test['A'].replace(A_dict)\n",
    "test['A'] = test['A'].fillna(0)\n",
    "test = fill_na(test)\n",
    "test = dummies(test)\n",
    "test = normalize(test)"
   ]
  },
  {
   "cell_type": "markdown",
   "metadata": {},
   "source": [
    "Feature selection:\n",
    "<br>Due the fact that in order to make fw feature selection the algorythm requires X and y, and in the test data we have only X, we will use the selected feature list we have from the train data and apply it on the test:"
   ]
  },
  {
   "cell_type": "code",
   "execution_count": 50,
   "metadata": {},
   "outputs": [],
   "source": [
    "test = apply_fw(test, selected_features)\n",
    "X_test = test.values[:,:]"
   ]
  },
  {
   "cell_type": "markdown",
   "metadata": {},
   "source": [
    "🤸 Make predictions and export it to csv file 🤸‍♂️"
   ]
  },
  {
   "cell_type": "code",
   "execution_count": 51,
   "metadata": {},
   "outputs": [],
   "source": [
    "predictions = RF_model.predict_proba(X_test)\n",
    "\n",
    "ids = pd.read_csv(\"test.csv\")['id']\n",
    "output=pd.DataFrame(data={\"id\":ids,\"predict_prob\":predictions[:,1]}) \n",
    "\n",
    "#This code is used for predictions export.\n",
    "#TODO: change the path to save the csv file.\n",
    "# output.to_csv(path_or_buf=\"C:/Users/bulga/Downloads/submission_31.csv\",index=False,quoting=3,sep=',')"
   ]
  }
 ],
 "metadata": {
  "interpreter": {
   "hash": "29210de56c96eca7326a00dba834ccf4ff02e9309c4dd0e416cb3636e97199d6"
  },
  "kernelspec": {
   "display_name": "Python 3",
   "language": "python",
   "name": "python3"
  },
  "language_info": {
   "codemirror_mode": {
    "name": "ipython",
    "version": 3
   },
   "file_extension": ".py",
   "mimetype": "text/x-python",
   "name": "python",
   "nbconvert_exporter": "python",
   "pygments_lexer": "ipython3",
   "version": "3.9.7"
  }
 },
 "nbformat": 4,
 "nbformat_minor": 4
}
